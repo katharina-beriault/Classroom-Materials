{
 "cells": [
  {
   "cell_type": "markdown",
   "id": "633be059-548d-49e3-91af-e72dabfd80c9",
   "metadata": {},
   "source": [
    "### Learning Objectives\n",
    "- Infer probability calculations and its logic\n",
    "- Incorporate statistics technical vocabulary, including: population, sample, random samples, and random variables (continuous and discrete)\n",
    "- Interpret continuous distributions and discrete distributions\n"
   ]
  },
  {
   "cell_type": "markdown",
   "id": "da8b2ebf-9c44-4b3a-b703-a0d82c601a54",
   "metadata": {},
   "source": [
    "# Statistics\n",
    "\n",
    "- A population is an aggregate/collection of creatures, things, cases, and so on. A population commonly contains too many individuals to study conveniently, so an investigation is often restricted to one or more samples drawn from it.\n",
    "- The relation between the sample and the population is such that it allows inferences to be made about a population from that sample.\n",
    "- A random sample means that the observations from the population are picked randomly and not without any bias.\n",
    "- Differences between the population mean and the sample mean, population standard deviation, and sample standard deviation. etc.\n",
    "\n",
    "    - The population mean and standard deviation are fixed (assumed to be fixed) and are called population parameters.\n",
    "    - The sample mean, sample std. deviation varies every time we calculate them as a random sample will have different values every time. They are called sample statistics.\n",
    "\n",
    "\n",
    "- A random variable, usually written `X`, is a variable whose possible values are numerical outcomes of a random phenomenon (usually the thing under observation/the thing that we are trying to measure); for eg. height people in the US, marks scored in a test, etc. This random variable can be either continuous or discrete in nature.\n",
    "\n",
    "    - *Discrete random variable*: The set of values that his random variable can take are discrete (usually but not necessarily counts)\n",
    "    - *Continuous random variable*: The set of values that his random variable can take are continuous\n"
   ]
  },
  {
   "cell_type": "markdown",
   "id": "6fd0a371-7f75-469f-9ae5-e5d610bf0a74",
   "metadata": {},
   "source": [
    "# Intro to Probability\n",
    "\n",
    "- **Probability theory** is concerned with determining the likelihood that a certain event will occur during a given random experiment.\n",
    "- **Experiment** is any situation that involves observation or measurement. Random experiments are those which can have different outcomes regardless of the initial conditions and will be heretofore referred to simply as experiments.\n",
    "- **Sample space** - The results obtained from an experiment are known as the outcomes. Sample space is the set of all possible outcomes for that experiment.\n",
    "- **Events** - We can create a subset of the sample space called an event. We then enumerate all outcomes in the event. Each time the experiment is run, a given event A either occurs or does not occur. Intuitively, you should think of an event as a meaningful statement about the experiment.\n",
    "- **Random Variable** is a real valued function on the sample space. It is a measurement of interest in the context of the random experiment. A random variable `X` is random in the sense that its value depends on the outcome of the experiment, which can't be predicted with certainty before the experiment is run. As mentioned before, the random variables can be either discrete or continuous.\n",
    "- **Calculating probabilities** is the ratio of an event to the entire sample space.\n"
   ]
  },
  {
   "cell_type": "markdown",
   "id": "58a04795-41c4-4e32-a7f5-e0d2e8682253",
   "metadata": {},
   "source": [
    "## Discrete Distributions\n",
    "\n",
    "- In the field of probability, a **distribution function** is a function that maps numerical values to probabilities.\n",
    "- Discrete distributions arise from discrete random variables. Discrete random variables can take discrete values (usually but not necessarily counts).\n",
    "- This means that a discrete probability distribution is characterized by having a finite or countably infinite number of outcomes in the sample space. The sum of probabilities for all outcomes in the sample space must add up to 1.\n",
    "\n",
    "- **Bernoulli distribution** describes the outcome of a single yes or no event. An example of this distribution is a coin toss. We do not have to use a fair coin (a coin where there is a 50% chance of heads and 50% chance of tails). We can describe the probability of heads as `p` and say that the probability of tails is `1-p`.\n",
    "\n",
    "- **Binomial distribution** - When n independent Bernoulli's experiments are conducted, it gives rise to a binomial distribution. Each of the `n` experiments is either a success or a failure with a probability of success `p`.\n"
   ]
  },
  {
   "cell_type": "markdown",
   "id": "54608a8c-8dd1-4291-9202-5ec6a23a14fa",
   "metadata": {},
   "source": [
    "#### Binomial VS Bernoulli Keypoints!\n",
    "- Bernoulli deals with the outcome of the single trial of the event, whereas Binomial deals with the outcome of the multiple trials of the single event.\n",
    "- Bernoulli is used when the outcome of an event is required for only one time, whereas the Binomial is used when the outcome of an event is required multiple times."
   ]
  },
  {
   "cell_type": "markdown",
   "id": "d90a4118-da21-46ba-aacd-9e526cc27ec8",
   "metadata": {},
   "source": [
    "### Geometric Distribution\n",
    "\n",
    "The geometric distribution represents the number of failures before you get a success in a series of Bernoulli trials. This discrete probability distribution is represented by the probability density function:\n",
    "\n",
    "For example, you ask people outside a polling station who they voted for until you find someone that voted for the independent candidate in a local election. The geometric distribution would represent the number of people who you had to poll before you found someone who voted independent. You would need to get a certain number of failures before you got your first success.\n",
    "\n",
    "If you had to ask 3 people, then X = 3; if you had to ask 4 people, then X=4 and so on. In other words, there would be X – 1 failures before you get your success."
   ]
  },
  {
   "cell_type": "markdown",
   "id": "aa25a38b-eda1-4244-906d-a9cb5ac1780e",
   "metadata": {},
   "source": [
    "*Example question: If your probability of success is 0.2, what is the probability you meet an independent voter on your third try?*"
   ]
  },
  {
   "cell_type": "markdown",
   "id": "194a291d-b67b-48fe-b0e9-ef3b3c9bba71",
   "metadata": {},
   "source": [
    "p(S) = 0.2\n",
    "p(F) = 0.8\n",
    "\n",
    "p(S at 3) = 0.8*0.8*0.2"
   ]
  },
  {
   "cell_type": "markdown",
   "id": "37ce747b-5df6-4c3c-a236-e41f7dd775f0",
   "metadata": {},
   "source": [
    "P(H) = 0.9\n",
    "\n",
    "P(T at 4th try) = (0.9)^3 * (0.1)"
   ]
  },
  {
   "cell_type": "markdown",
   "id": "b1f4a1ea-e3e3-4eac-8dd3-301fee0404ec",
   "metadata": {},
   "source": [
    "#### Assumptions for the Geometric Distribution\n",
    "The three assumptions are:\n",
    "\n",
    "- There are two possible outcomes for each trial (success or failure).\n",
    "- The trials are independent.\n",
    "- The probability of success is the same for each trial.\n"
   ]
  },
  {
   "cell_type": "markdown",
   "id": "7f1c0058-73a9-4cd2-93f8-f633d5b2752f",
   "metadata": {},
   "source": [
    "## Continous Distribution"
   ]
  },
  {
   "cell_type": "markdown",
   "id": "97c1e5d8-0c97-4ad6-b3e6-831d2d34e9cf",
   "metadata": {},
   "source": [
    "### Normal distribution\n",
    "\n",
    "A normal distribution, sometimes called the bell curve, is a distribution that occurs naturally in many situations. For example, the bell curve is seen in tests like the SAT and GRE. The bulk of students will score the average (C), while smaller numbers of students will score a B or D. An even smaller percentage of students score an F or an A. This creates a distribution that resembles a bell (hence the nickname). The bell curve is symmetrical. Half of the data will fall to the left of the mean; half will fall to the right."
   ]
  },
  {
   "cell_type": "markdown",
   "id": "b59a45a9-3fe5-424b-8546-bec1d60fab61",
   "metadata": {},
   "source": [
    "Many groups follow this type of pattern. That’s why it’s widely used in business, statistics and in government bodies like the FDA:\n",
    "- Heights of people.\n",
    "- Measurement errors.\n",
    "- Blood pressure.\n",
    "- Points on a test.\n",
    "- IQ scores.\n",
    "- Salaries."
   ]
  },
  {
   "cell_type": "markdown",
   "id": "b8e1b159-4fac-4dd6-9250-0abaa3682bd5",
   "metadata": {},
   "source": [
    "The empirical rule tells you what percentage of your data falls within a certain number of standard deviations from the mean:\n",
    "- 68% of the data falls within one standard deviation of the mean.\n",
    "- 95% of the data falls within two standard deviations of the mean.\n",
    "- 99.7% of the data falls within three standard deviations of the mean."
   ]
  },
  {
   "cell_type": "code",
   "execution_count": 4,
   "id": "05bb6d74-7883-40d6-898a-2f2e9644519b",
   "metadata": {},
   "outputs": [
    {
     "data": {
      "image/jpeg": "[encoded data removed]",
      "text/plain": [
       "<IPython.core.display.Image object>"
      ]
     },
     "execution_count": 4,
     "metadata": {
      "image/jpeg": {
       "height": 300,
       "width": 400
      }
     },
     "output_type": "execute_result"
    }
   ],
   "source": [
    "from IPython import display\n",
    "display.Image(\"standard-normal-distribution.jpeg\", width=400, height=300)"
   ]
  },
  {
   "cell_type": "markdown",
   "id": "3dab9638-c8e0-4c0d-84c8-462c1e947826",
   "metadata": {},
   "source": [
    "#### Properties of Normal Distribution\n",
    "- The mean, mode and median are all equal.\n",
    "- The curve is symmetric at the center (i.e. around the mean, μ).\n",
    "- Exactly half of the values are to the left of center and exactly half the values are to the right.\n",
    "- The total area under the curve is 1."
   ]
  },
  {
   "cell_type": "markdown",
   "id": "bd311fa5-07d7-4ac9-b999-1f95754dbfa1",
   "metadata": {},
   "source": [
    "### Standard Normal Distribution\n",
    "\n",
    "A standard normal model is a normal distribution with a mean of 0 and a standard deviation of 1.\n",
    "\n",
    "**Practical Applications of the Standard Normal Model**<br>\n",
    "The standard normal distribution could help you figure out which subject you are getting good grades in and which subjects you have to exert more effort into due to low scoring percentages. Once you get a score in one subject that is higher than your score in another subject, you might think that you are better in the subject where you got the higher score. This is not always true.\n",
    "\n",
    "You can only say that you are better in a particular subject if you get a score with a certain number of standard deviations above the mean. The standard deviation tells you how tightly your data is clustered around the mean; It allows you to compare different distributions that have different types of data — including different means.\n",
    "\n",
    "For example, if you get a score of 90 in Math and 95 in English, you might think that you are better in English than in Math. However, in Math, your score is 2 standard deviations above the mean. In English, it’s only one standard deviation above the mean. It tells you that in Math, your score is far higher than most of the students (your score falls into the tail).\n",
    "Based on this data, you actually performed better in Math than in English!\n",
    "\n"
   ]
  },
  {
   "cell_type": "markdown",
   "id": "1fc398f5-5ae2-40e4-85c2-d69ece2dd7e4",
   "metadata": {},
   "source": [
    "### Uniform Distribution"
   ]
  },
  {
   "cell_type": "markdown",
   "id": "fcab3293-c311-488d-ba0e-f7638afa355d",
   "metadata": {},
   "source": [
    "A uniform distribution, also called a rectangular distribution, is a probability distribution that has constant probability.\n",
    "\n",
    "This distribution is defined by two parameters, a and b:\n",
    "\n",
    "- a is the minimum.\n",
    "- b is the maximum.\n",
    "The distribution is written as U(a, b).\n",
    "\n",
    "The following graph shows the distribution with a = 1 and b = 3:"
   ]
  },
  {
   "cell_type": "code",
   "execution_count": 9,
   "id": "aab5bd02-3a0a-4aca-8090-e8a553ac13f3",
   "metadata": {},
   "outputs": [
    {
     "data": {
      "image/jpeg": "[encoded data removed]",
      "text/plain": [
       "<IPython.core.display.Image object>"
      ]
     },
     "execution_count": 9,
     "metadata": {
      "image/jpeg": {
       "height": 300,
       "width": 400
      }
     },
     "output_type": "execute_result"
    }
   ],
   "source": [
    "display.Image(\"uniform-distribution-a-b.jpeg\", width=400, height=300)"
   ]
  },
  {
   "cell_type": "code",
   "execution_count": null,
   "id": "d7c13d84-3d13-4d37-a63a-62edf97f82fe",
   "metadata": {},
   "outputs": [],
   "source": []
  }
 ],
 "metadata": {
  "kernelspec": {
   "display_name": "Python 3",
   "language": "python",
   "name": "python3"
  },
  "language_info": {
   "codemirror_mode": {
    "name": "ipython",
    "version": 3
   },
   "file_extension": ".py",
   "mimetype": "text/x-python",
   "name": "python",
   "nbconvert_exporter": "python",
   "pygments_lexer": "ipython3",
   "version": "3.8.2"
  }
 },
 "nbformat": 4,
 "nbformat_minor": 5
}
