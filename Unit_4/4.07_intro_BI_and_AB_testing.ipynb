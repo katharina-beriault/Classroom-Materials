{
 "cells": [
  {
   "cell_type": "markdown",
   "metadata": {},
   "source": [
    "## Intro to BI\n",
    "\n",
    "Business Intelligence is an application of data analysis that aids companies in making data-driven decisions. Using Business Intelligence technologies, we can provide insights into the performance of a business in the past and the present as well as make predictions or recommendations for the future. A key difference between Business Intelligence and data analysis is those insights are meant to be actionable and geared towards helping a business make decisions.\n",
    "\n",
    "- Business Intelligence tools are designed to make sense of the huge quantities of data that organizations accumulate over time. The BI tools analyze this information and present it as actionable information that can guide decision making.\n",
    "\n",
    "- Business Intelligence software makes up a large heterogeneous category of software. Not all tools in the category can be meaningfully compared to each other. There are several types of BI tools of which the most substantive are the Full-Stack Business Intelligence Tools and Data Visualization Tools.\n",
    "\n",
    "\n",
    "\n",
    "#### Job Market Perspective\n",
    "\n",
    "Data Analyst and Business Inteligence positions usually differ:\n",
    "* DA: more technical skills (might require python or R, deeper knowledge in statistics).\n",
    "* BI: more business related skills (usually uses drag and drop tools, excel, will hardly require ML).\n",
    "\n",
    "### KPIs\n",
    "\n",
    "Key Performance Indicators are metrics used by companies to give information on how well the business is doing. It is a crucial part of an analyst's job to use the most appropriate metrics to measure if the company is reaching certain objectives."
   ]
  },
  {
   "cell_type": "markdown",
   "metadata": {},
   "source": [
    "### Tableau\n",
    "\n",
    "Tableau is one of the most popular and intuitive applications for business intelligence and visual data exploration today. The application makes it easy to connect to an existing data source, create interactive visualizations, and perform basic analysis to discover insights. In this lesson, we will learn about the different features of Tableau and how it can be a valuable addition to your analytics tool kit. We will also cover how to load data into Tableau - both from file and hosted data sources.\n",
    "\n",
    "Tableau has several features that make it a great tool for data analysis. In this section, we will highlight some of the most important ones:\n",
    "\n",
    "- `Drag & Drop Interface`: One of the things that makes Tableau so popular is its ease of use. It allows you to intuitively drag and drop fields where you want them and move things around to get exactly the visualization you want.\n",
    "\n",
    "- `Variety of Visualizations`: Tableau has several types of visualizations you can use - from bar charts, line charts, and scatter plots to area charts, bubble charts, treemaps. Speaking of maps, it also allows you to visualize your data geographically.\n",
    "\n",
    "- `Dashboards and Stories`: You can combine several visualizations into dashboards and stories that focus on communicating interesting insights with the stakeholders that need the information.\n",
    "\n",
    "- `Data Exploration`: Perhaps one of Tableau's most useful features is how easy it is to explore data with it. You can start with an aggregated view of the data, filter to zoom in on something that looks interesting, add dimensions to get more well-rounded perspectives, and look at the underlying records to get to the bottom of what you are trying to investigate.\n",
    "\n"
   ]
  },
  {
   "cell_type": "markdown",
   "metadata": {},
   "source": [
    "## AB Testing\n",
    "\n",
    "An A/B test (aka split test), is an experiment to determine which of different variations of an online experience performs better.\n",
    "\n",
    "The different versions are presented to the users at random and the result is analyzed after a period of time, to verify which version performed better.\n",
    "\n",
    "AB testing can be performed with p-value...\n",
    "\n",
    "### Mini Case Study\n",
    "\n",
    "There are two equally divided groups of customers from an online store, A and B.\n",
    "\n",
    "Users B received an email with \"Offer ends this Saturday. Use code ###!\". Users A did not receive the email.\n",
    "\n",
    "Was sending the e-mail a good idea?"
   ]
  },
  {
   "cell_type": "code",
   "execution_count": 1,
   "metadata": {},
   "outputs": [
    {
     "data": {
      "text/html": [
       "<div>\n",
       "<style scoped>\n",
       "    .dataframe tbody tr th:only-of-type {\n",
       "        vertical-align: middle;\n",
       "    }\n",
       "\n",
       "    .dataframe tbody tr th {\n",
       "        vertical-align: top;\n",
       "    }\n",
       "\n",
       "    .dataframe thead th {\n",
       "        text-align: right;\n",
       "    }\n",
       "</style>\n",
       "<table border=\"1\" class=\"dataframe\">\n",
       "  <thead>\n",
       "    <tr style=\"text-align: right;\">\n",
       "      <th></th>\n",
       "      <th>CustomerNo</th>\n",
       "      <th>Website View</th>\n",
       "      <th>Test Group</th>\n",
       "    </tr>\n",
       "  </thead>\n",
       "  <tbody>\n",
       "    <tr>\n",
       "      <th>0</th>\n",
       "      <td>1</td>\n",
       "      <td>88</td>\n",
       "      <td>A</td>\n",
       "    </tr>\n",
       "    <tr>\n",
       "      <th>1</th>\n",
       "      <td>2</td>\n",
       "      <td>56</td>\n",
       "      <td>B</td>\n",
       "    </tr>\n",
       "    <tr>\n",
       "      <th>2</th>\n",
       "      <td>3</td>\n",
       "      <td>80</td>\n",
       "      <td>B</td>\n",
       "    </tr>\n",
       "    <tr>\n",
       "      <th>3</th>\n",
       "      <td>4</td>\n",
       "      <td>49</td>\n",
       "      <td>A</td>\n",
       "    </tr>\n",
       "    <tr>\n",
       "      <th>4</th>\n",
       "      <td>5</td>\n",
       "      <td>61</td>\n",
       "      <td>A</td>\n",
       "    </tr>\n",
       "    <tr>\n",
       "      <th>...</th>\n",
       "      <td>...</td>\n",
       "      <td>...</td>\n",
       "      <td>...</td>\n",
       "    </tr>\n",
       "    <tr>\n",
       "      <th>9995</th>\n",
       "      <td>9996</td>\n",
       "      <td>50</td>\n",
       "      <td>B</td>\n",
       "    </tr>\n",
       "    <tr>\n",
       "      <th>9996</th>\n",
       "      <td>9997</td>\n",
       "      <td>55</td>\n",
       "      <td>A</td>\n",
       "    </tr>\n",
       "    <tr>\n",
       "      <th>9997</th>\n",
       "      <td>9998</td>\n",
       "      <td>55</td>\n",
       "      <td>A</td>\n",
       "    </tr>\n",
       "    <tr>\n",
       "      <th>9998</th>\n",
       "      <td>9999</td>\n",
       "      <td>53</td>\n",
       "      <td>B</td>\n",
       "    </tr>\n",
       "    <tr>\n",
       "      <th>9999</th>\n",
       "      <td>10000</td>\n",
       "      <td>59</td>\n",
       "      <td>B</td>\n",
       "    </tr>\n",
       "  </tbody>\n",
       "</table>\n",
       "<p>10000 rows × 3 columns</p>\n",
       "</div>"
      ],
      "text/plain": [
       "      CustomerNo  Website View Test Group\n",
       "0              1            88          A\n",
       "1              2            56          B\n",
       "2              3            80          B\n",
       "3              4            49          A\n",
       "4              5            61          A\n",
       "...          ...           ...        ...\n",
       "9995        9996            50          B\n",
       "9996        9997            55          A\n",
       "9997        9998            55          A\n",
       "9998        9999            53          B\n",
       "9999       10000            59          B\n",
       "\n",
       "[10000 rows x 3 columns]"
      ]
     },
     "execution_count": 1,
     "metadata": {},
     "output_type": "execute_result"
    }
   ],
   "source": [
    "import pandas as pd\n",
    "\n",
    "data = pd.read_csv('AB.csv')\n",
    "data"
   ]
  },
  {
   "cell_type": "code",
   "execution_count": 2,
   "metadata": {},
   "outputs": [
    {
     "data": {
      "text/plain": [
       "0       88\n",
       "3       49\n",
       "4       61\n",
       "5       21\n",
       "6       48\n",
       "        ..\n",
       "9991    69\n",
       "9993    68\n",
       "9994    33\n",
       "9996    55\n",
       "9997    55\n",
       "Name: Website View, Length: 5000, dtype: int64"
      ]
     },
     "execution_count": 2,
     "metadata": {},
     "output_type": "execute_result"
    }
   ],
   "source": [
    "A = data[data['Test Group'] == 'A']['Website View']\n",
    "B = data[data['Test Group'] == 'B']['Website View']\n",
    "A"
   ]
  },
  {
   "cell_type": "code",
   "execution_count": 6,
   "metadata": {},
   "outputs": [
    {
     "data": {
      "text/plain": [
       "True"
      ]
     },
     "execution_count": 6,
     "metadata": {},
     "output_type": "execute_result"
    }
   ],
   "source": [
    "len(A) == len(B)"
   ]
  },
  {
   "cell_type": "code",
   "execution_count": 7,
   "metadata": {},
   "outputs": [
    {
     "data": {
      "text/plain": [
       "10359"
      ]
     },
     "execution_count": 7,
     "metadata": {},
     "output_type": "execute_result"
    }
   ],
   "source": [
    "sum(B) - sum(A)"
   ]
  },
  {
   "cell_type": "code",
   "execution_count": 8,
   "metadata": {},
   "outputs": [
    {
     "data": {
      "text/plain": [
       "(50.045, 52.1168)"
      ]
     },
     "execution_count": 8,
     "metadata": {},
     "output_type": "execute_result"
    }
   ],
   "source": [
    "import numpy as np\n",
    "np.mean(A), np.mean(B)"
   ]
  },
  {
   "cell_type": "code",
   "execution_count": null,
   "metadata": {},
   "outputs": [],
   "source": [
    "A1 -> 2500 users -> avg1\n",
    "A2 -> 2500 users -> avg2"
   ]
  },
  {
   "cell_type": "markdown",
   "metadata": {},
   "source": [
    "A -> no email\n",
    "B -> 2 days before\n",
    "C -> 1 day before\n",
    "\n",
    "AB -> p sig -> tstat = 10\n",
    "AC -> p sig -> tstat = 20\n",
    "BC -> not sig"
   ]
  },
  {
   "cell_type": "markdown",
   "metadata": {},
   "source": [
    "AB testing refers to hypothesis testing in statistics, where we have a hypothesis (h1) and a null-hypothesis (h0).\n",
    "\n",
    "- h0 = results for A and B are not different. mean(A) = mean(B)\n",
    "- h1 = results for A and B are different\n",
    "\n",
    "Once we set our hypothesis, we set our confidence interval. Let's say we set our confidence interval to 95%, which means that if you repeat this test over and over again the results will match the initial test in 95% of cases.\n",
    "\n",
    "For a confidence interval of 95%, our threshold for comparison with the p-value is 0.05. \n",
    "\n",
    "If the p-value is lower then our 0.05 threshold, then we can reject the null hypothesis.\n",
    "\n",
    "A p-value is a measure of the probability that an observed difference could have occurred just by random chance."
   ]
  },
  {
   "cell_type": "code",
   "execution_count": 3,
   "metadata": {},
   "outputs": [
    {
     "name": "stdout",
     "output_type": "stream",
     "text": [
      "Rejected the null hypothesis! p_value = 3.936341519171799e-08\n"
     ]
    }
   ],
   "source": [
    "from scipy.stats import ttest_ind # z_test\n",
    "\n",
    "p_value = ttest_ind(A, B)[1]\n",
    "\n",
    "if p_value < 0.05:\n",
    "    print(\"Rejected the null hypothesis! p_value =\", p_value)\n",
    "else:\n",
    "    print(\"Failed to reject null hypothesis.\")"
   ]
  },
  {
   "cell_type": "code",
   "execution_count": 4,
   "metadata": {},
   "outputs": [
    {
     "data": {
      "text/plain": [
       "Ttest_indResult(statistic=-5.497970336287157, pvalue=3.936341519171799e-08)"
      ]
     },
     "execution_count": 4,
     "metadata": {},
     "output_type": "execute_result"
    }
   ],
   "source": [
    "ttest_ind(A, B)"
   ]
  },
  {
   "cell_type": "markdown",
   "metadata": {},
   "source": [
    "The null hypothesis is rejected, which means there is a significant difference between groups A and B.\n",
    "\n",
    "We still need to measure if that difference is what we expected.\n",
    "\n",
    "Failing to reject the null hypothesis is not the same as accepting it. A lack of evidence only means that you haven’t proven that something exists. It does not prove that something doesn’t exist. It might exist, but your study missed it. "
   ]
  },
  {
   "cell_type": "markdown",
   "metadata": {},
   "source": [
    "**That's not all folks!** We'll talk more about p-values in future classes.\n",
    "\n",
    "A dense read, connecting AB testing with the statistical concepts we've learned so far [here](https://conversionsciences.com/ab-testing-statistics/)."
   ]
  }
 ],
 "metadata": {
  "kernelspec": {
   "display_name": "Python 3",
   "language": "python",
   "name": "python3"
  },
  "language_info": {
   "codemirror_mode": {
    "name": "ipython",
    "version": 3
   },
   "file_extension": ".py",
   "mimetype": "text/x-python",
   "name": "python",
   "nbconvert_exporter": "python",
   "pygments_lexer": "ipython3",
   "version": "3.8.2"
  }
 },
 "nbformat": 4,
 "nbformat_minor": 4
}
