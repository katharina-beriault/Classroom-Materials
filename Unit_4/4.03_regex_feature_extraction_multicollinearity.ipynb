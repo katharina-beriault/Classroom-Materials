{
 "cells": [
  {
   "cell_type": "code",
   "execution_count": 39,
   "id": "24554d90-ccd8-417d-b684-38de7021b34e",
   "metadata": {},
   "outputs": [],
   "source": [
    "import numpy as np\n",
    "import pandas as pd\n",
    "import re"
   ]
  },
  {
   "cell_type": "code",
   "execution_count": 41,
   "id": "387b433c-a939-48d9-b0ae-9d727cccb9c2",
   "metadata": {},
   "outputs": [
    {
     "data": {
      "text/plain": [
       "['e', 'r', 'e', 'r', 'r', 'e', 'r', 'e', 'r']"
      ]
     },
     "execution_count": 41,
     "metadata": {},
     "output_type": "execute_result"
    }
   ],
   "source": [
    "text = \"That person wears marvelous trousers.\"\n",
    "# pattern = 'er'\n",
    "pattern = '[er]'\n",
    "re.findall(pattern, text)"
   ]
  },
  {
   "cell_type": "code",
   "execution_count": 52,
   "id": "1fd2c785-3578-4793-93b6-f356aefa5b1f",
   "metadata": {},
   "outputs": [
    {
     "data": {
      "text/plain": [
       "['gry', 'grey']"
      ]
     },
     "execution_count": 52,
     "metadata": {},
     "output_type": "execute_result"
    }
   ],
   "source": [
    "# text = \"Is it spelled gray or grey?\"\n",
    "text = \"Is it spelled gry or grey?\"\n",
    "pattern = 'gr[ae]*y'\n",
    "re.findall(pattern, text)"
   ]
  },
  {
   "cell_type": "code",
   "execution_count": null,
   "id": "205a8ba7-3bed-4aad-9097-2ae764353510",
   "metadata": {},
   "outputs": [],
   "source": [
    "A-Z -> 1-26\n",
    "a-z -> 27-54"
   ]
  },
  {
   "cell_type": "code",
   "execution_count": 53,
   "id": "1531efe8-f25e-4883-9509-2e9035101eff",
   "metadata": {},
   "outputs": [
    {
     "name": "stdout",
     "output_type": "stream",
     "text": [
      "['Kerra', 'Power', 'Bill', 'Gates', 'China', 'Trump']\n"
     ]
    }
   ],
   "source": [
    "text = '''TKerraPower, A nuclear-energy company founded by Bill Gates,\n",
    "        is unlikely to follow through on building a demonstration reactor in China,\n",
    "        due largely to the Trump administration�s crackdown on the country'''\n",
    "\n",
    "# pattern = '[A-Z][a-z]*'\n",
    "# pattern = '[a-Z]+'\n",
    "pattern = '[A-Z][a-z]+'\n",
    "print(re.findall(pattern, text))"
   ]
  },
  {
   "cell_type": "markdown",
   "id": "9d657258-c2e6-45f2-996c-0fe32f0775d5",
   "metadata": {},
   "source": [
    "### More complex regex"
   ]
  },
  {
   "cell_type": "markdown",
   "id": "2bf7af90-40a8-4a6c-9c71-24485a7dc301",
   "metadata": {},
   "source": [
    "- `\\w`: Any alphanumeric character.\n",
    "- `\\W`: Any non-alphanumeric character.\n",
    "- `\\d`: Any numeric character.\n",
    "- `\\D`: Any non-numeric character.\n",
    "- `\\s`: Any whitespace characters.\n",
    "- `\\S`: Any non-whitespace characters."
   ]
  },
  {
   "cell_type": "code",
   "execution_count": 65,
   "id": "fbdd17a4-229d-4f7d-9e30-0ee54e8008a9",
   "metadata": {},
   "outputs": [
    {
     "name": "stdout",
     "output_type": "stream",
     "text": [
      "['I', 'f', 'y', 'o', 'u', 't', 'e', 'l', 'l', 't', 'h', 'e', 't', 'r', 'u', 't', 'h', 'y', 'o', 'u', 'd', 'o', 'n', 't', 'h', 'a', 'v', 'e', 't', 'o', 'r', 'e', 'm', 'e', 'm', 'b', 'e', 'r', 'a', 'n', 'y', 't', 'h', 'i', 'n', 'g', '1', '0', '0']\n"
     ]
    }
   ],
   "source": [
    "text = \"If you tell the truth, you don't have to remember anything 100.\"\n",
    "\n",
    "pattern = '\\w'\n",
    "# pattern = '\\w+'\n",
    "# pattern = '\\w*'\n",
    "# pattern = '\\w?'\n",
    "# pattern = '.'\n",
    "print(re.findall(pattern, text))"
   ]
  },
  {
   "cell_type": "code",
   "execution_count": 61,
   "id": "f09f27ec-c308-4d1f-93af-ee273eb55f47",
   "metadata": {},
   "outputs": [
    {
     "name": "stdout",
     "output_type": "stream",
     "text": [
      "['tell', 'truth', 'have', 'remember', 'anything']\n"
     ]
    }
   ],
   "source": [
    "text = \"If you tell the truth, you don't have to remember anything 100.\"\n",
    "# pattern = '\\w{4}'\n",
    "pattern = '\\w{4,}'\n",
    "print(re.findall(pattern, text))"
   ]
  },
  {
   "cell_type": "code",
   "execution_count": 63,
   "id": "b4b53a1f-3419-4871-83eb-e7865d0a7730",
   "metadata": {},
   "outputs": [
    {
     "data": {
      "text/plain": [
       "['888-247-2262',\n",
       " '888-247-2262',\n",
       " '800-567-6567',\n",
       " '800-361-2965',\n",
       " '800-661-0407',\n",
       " '888-545-6794']"
      ]
     },
     "execution_count": 63,
     "metadata": {},
     "output_type": "execute_result"
    }
   ],
   "source": [
    "text = \"\"\"\n",
    "Aeromexico 800 -237- 6639\n",
    "Air Canada 888-247-2262\n",
    "Air Canada Rouge 888-247-2262\n",
    "Air Creebec 800-567-6567\n",
    "Air Inuit 800-361-2965\n",
    "Air North 800-661-0407\n",
    "Air Tindi 888-545-6794\"\"\"\n",
    "pattern = '\\d+-\\d+-\\d+'\n",
    "re.findall(pattern, text)"
   ]
  },
  {
   "cell_type": "markdown",
   "id": "7c5bd9fa-ab99-49f9-b547-8fd2b722efb6",
   "metadata": {},
   "source": [
    "### Feature Engineering"
   ]
  },
  {
   "cell_type": "markdown",
   "id": "6f01b921-6425-47d8-9bb3-d59f89d280e8",
   "metadata": {},
   "source": [
    "- **Feature engineering** is a process of transforming the given data into a form that is easier to interpret. All the techniques that we have used before including data transformations techniques, encoding categorical variables, scaling numerical features, imputing missing values, cleaning categorical columns, using regular expressions, using DateTime, and string functions are feature engineering techniques. The key idea is that we are manipulating the information that is available to us to be able to better understand it and improve the model.\n",
    "\n",
    "- **Feature extraction/feature generation**: It is the process of extracting relevant information from the existing available information. For example, you are provided with the date of birth of customers in the data. You are not interested in when they were born but more interested in their age. In that case, you can use the DateTime functions to calculate the age or extract other relevant information such as the year they were born, the month they were born.\n",
    "\n",
    "\n",
    "- **Feature selection**: This is the process of selecting the features/columns in your data that are relevant to the model, for eg. if it is a prediction problem, you will be more interested in only those variable that have an impact on your target and not other columns/features that are not providing any information about target. Adding variables that don't add value to the model degrades the performance of the model both in terms of accuracy and in terms of efficiency.\n",
    "\n",
    "Some of the feature selection methods that we took a look at earlier include:\n",
    "\n",
    "- Checking null values to drop a column\n",
    "- Sense check to drop columns that are not significant\n",
    "- Using heat maps to check multicollinearity for numerical variables\n",
    "- Chi-square tests for categorical variables"
   ]
  },
  {
   "cell_type": "code",
   "execution_count": 66,
   "id": "c61f5728-283a-432d-805f-1493acb2f9b9",
   "metadata": {},
   "outputs": [],
   "source": [
    "data = pd.read_csv('4.01_healthcare.csv')"
   ]
  },
  {
   "cell_type": "code",
   "execution_count": 67,
   "id": "eba73204-9235-4d5d-a5b7-0b7f1329beb7",
   "metadata": {},
   "outputs": [
    {
     "data": {
      "text/plain": [
       "(90569, 28)"
      ]
     },
     "execution_count": 67,
     "metadata": {},
     "output_type": "execute_result"
    }
   ],
   "source": [
    "data.shape"
   ]
  },
  {
   "cell_type": "code",
   "execution_count": 69,
   "id": "af72d1b4-06e5-4ea3-8714-ea86857532fa",
   "metadata": {},
   "outputs": [
    {
     "data": {
      "text/html": [
       "<div>\n",
       "<style scoped>\n",
       "    .dataframe tbody tr th:only-of-type {\n",
       "        vertical-align: middle;\n",
       "    }\n",
       "\n",
       "    .dataframe tbody tr th {\n",
       "        vertical-align: top;\n",
       "    }\n",
       "\n",
       "    .dataframe thead th {\n",
       "        text-align: right;\n",
       "    }\n",
       "</style>\n",
       "<table border=\"1\" class=\"dataframe\">\n",
       "  <thead>\n",
       "    <tr style=\"text-align: right;\">\n",
       "      <th></th>\n",
       "      <th>STATE</th>\n",
       "      <th>PVASTATE</th>\n",
       "      <th>DOB</th>\n",
       "      <th>MDMAUD</th>\n",
       "      <th>RECP3</th>\n",
       "      <th>GENDER</th>\n",
       "      <th>DOMAIN</th>\n",
       "      <th>INCOME</th>\n",
       "      <th>HOMEOWNR</th>\n",
       "      <th>HV1</th>\n",
       "      <th>...</th>\n",
       "      <th>VETERANS</th>\n",
       "      <th>NUMPROM</th>\n",
       "      <th>CARDPROM</th>\n",
       "      <th>CARDPM12</th>\n",
       "      <th>NUMPRM12</th>\n",
       "      <th>MAXADATE</th>\n",
       "      <th>RFA_2</th>\n",
       "      <th>NGIFTALL</th>\n",
       "      <th>TIMELAG</th>\n",
       "      <th>AVGGIFT</th>\n",
       "    </tr>\n",
       "  </thead>\n",
       "  <tbody>\n",
       "    <tr>\n",
       "      <th>0</th>\n",
       "      <td>IL</td>\n",
       "      <td></td>\n",
       "      <td>3712</td>\n",
       "      <td>XXXX</td>\n",
       "      <td></td>\n",
       "      <td>F</td>\n",
       "      <td>T2</td>\n",
       "      <td>NaN</td>\n",
       "      <td></td>\n",
       "      <td>479</td>\n",
       "      <td>...</td>\n",
       "      <td></td>\n",
       "      <td>74</td>\n",
       "      <td>27</td>\n",
       "      <td>6</td>\n",
       "      <td>14</td>\n",
       "      <td>9702</td>\n",
       "      <td>L4E</td>\n",
       "      <td>31</td>\n",
       "      <td>4.0</td>\n",
       "      <td>7.741935</td>\n",
       "    </tr>\n",
       "    <tr>\n",
       "      <th>1</th>\n",
       "      <td>CA</td>\n",
       "      <td></td>\n",
       "      <td>5202</td>\n",
       "      <td>XXXX</td>\n",
       "      <td></td>\n",
       "      <td>M</td>\n",
       "      <td>S1</td>\n",
       "      <td>6.0</td>\n",
       "      <td>H</td>\n",
       "      <td>5468</td>\n",
       "      <td>...</td>\n",
       "      <td></td>\n",
       "      <td>32</td>\n",
       "      <td>12</td>\n",
       "      <td>6</td>\n",
       "      <td>13</td>\n",
       "      <td>9702</td>\n",
       "      <td>L2G</td>\n",
       "      <td>3</td>\n",
       "      <td>18.0</td>\n",
       "      <td>15.666667</td>\n",
       "    </tr>\n",
       "    <tr>\n",
       "      <th>2</th>\n",
       "      <td>NC</td>\n",
       "      <td></td>\n",
       "      <td>0</td>\n",
       "      <td>XXXX</td>\n",
       "      <td></td>\n",
       "      <td>M</td>\n",
       "      <td>R2</td>\n",
       "      <td>3.0</td>\n",
       "      <td>U</td>\n",
       "      <td>497</td>\n",
       "      <td>...</td>\n",
       "      <td></td>\n",
       "      <td>63</td>\n",
       "      <td>26</td>\n",
       "      <td>6</td>\n",
       "      <td>14</td>\n",
       "      <td>9702</td>\n",
       "      <td>L4E</td>\n",
       "      <td>27</td>\n",
       "      <td>12.0</td>\n",
       "      <td>7.481481</td>\n",
       "    </tr>\n",
       "    <tr>\n",
       "      <th>3</th>\n",
       "      <td>CA</td>\n",
       "      <td></td>\n",
       "      <td>2801</td>\n",
       "      <td>XXXX</td>\n",
       "      <td></td>\n",
       "      <td>F</td>\n",
       "      <td>R2</td>\n",
       "      <td>1.0</td>\n",
       "      <td>U</td>\n",
       "      <td>1000</td>\n",
       "      <td>...</td>\n",
       "      <td></td>\n",
       "      <td>66</td>\n",
       "      <td>27</td>\n",
       "      <td>6</td>\n",
       "      <td>14</td>\n",
       "      <td>9702</td>\n",
       "      <td>L4E</td>\n",
       "      <td>16</td>\n",
       "      <td>9.0</td>\n",
       "      <td>6.812500</td>\n",
       "    </tr>\n",
       "    <tr>\n",
       "      <th>4</th>\n",
       "      <td>FL</td>\n",
       "      <td></td>\n",
       "      <td>2001</td>\n",
       "      <td>XXXX</td>\n",
       "      <td>X</td>\n",
       "      <td>F</td>\n",
       "      <td>S2</td>\n",
       "      <td>3.0</td>\n",
       "      <td>H</td>\n",
       "      <td>576</td>\n",
       "      <td>...</td>\n",
       "      <td></td>\n",
       "      <td>113</td>\n",
       "      <td>43</td>\n",
       "      <td>10</td>\n",
       "      <td>25</td>\n",
       "      <td>9702</td>\n",
       "      <td>L2F</td>\n",
       "      <td>37</td>\n",
       "      <td>14.0</td>\n",
       "      <td>6.864865</td>\n",
       "    </tr>\n",
       "  </tbody>\n",
       "</table>\n",
       "<p>5 rows × 28 columns</p>\n",
       "</div>"
      ],
      "text/plain": [
       "  STATE PVASTATE   DOB MDMAUD RECP3 GENDER DOMAIN  INCOME HOMEOWNR   HV1  ...  \\\n",
       "0    IL           3712   XXXX            F     T2     NaN            479  ...   \n",
       "1    CA           5202   XXXX            M     S1     6.0        H  5468  ...   \n",
       "2    NC              0   XXXX            M     R2     3.0        U   497  ...   \n",
       "3    CA           2801   XXXX            F     R2     1.0        U  1000  ...   \n",
       "4    FL           2001   XXXX     X      F     S2     3.0        H   576  ...   \n",
       "\n",
       "   VETERANS  NUMPROM  CARDPROM  CARDPM12  NUMPRM12  MAXADATE  RFA_2  NGIFTALL  \\\n",
       "0                 74        27         6        14      9702    L4E        31   \n",
       "1                 32        12         6        13      9702    L2G         3   \n",
       "2                 63        26         6        14      9702    L4E        27   \n",
       "3                 66        27         6        14      9702    L4E        16   \n",
       "4                113        43        10        25      9702    L2F        37   \n",
       "\n",
       "  TIMELAG    AVGGIFT  \n",
       "0     4.0   7.741935  \n",
       "1    18.0  15.666667  \n",
       "2    12.0   7.481481  \n",
       "3     9.0   6.812500  \n",
       "4    14.0   6.864865  \n",
       "\n",
       "[5 rows x 28 columns]"
      ]
     },
     "execution_count": 69,
     "metadata": {},
     "output_type": "execute_result"
    }
   ],
   "source": [
    "data.head()"
   ]
  },
  {
   "cell_type": "code",
   "execution_count": 68,
   "id": "de433a45-6cc3-465e-a437-eb99f0b4db65",
   "metadata": {},
   "outputs": [
    {
     "data": {
      "text/plain": [
       "22507"
      ]
     },
     "execution_count": 68,
     "metadata": {},
     "output_type": "execute_result"
    }
   ],
   "source": [
    "len(data[data['DOB']==0])"
   ]
  },
  {
   "cell_type": "code",
   "execution_count": 79,
   "id": "930aa870-71f9-4260-9002-da60f97ac019",
   "metadata": {},
   "outputs": [
    {
     "data": {
      "text/plain": [
       "'a-b-c'"
      ]
     },
     "execution_count": 79,
     "metadata": {},
     "output_type": "execute_result"
    }
   ],
   "source": [
    "'-'.join(['a','b','c'])"
   ]
  },
  {
   "cell_type": "code",
   "execution_count": 77,
   "id": "1f971db2-4fdd-4948-b82a-cec28e4d9748",
   "metadata": {},
   "outputs": [
    {
     "data": {
      "text/plain": [
       "['01']"
      ]
     },
     "execution_count": 77,
     "metadata": {},
     "output_type": "execute_result"
    }
   ],
   "source": [
    "x = '2-019'\n",
    "pattern = '\\d\\d'\n",
    "re.findall(pattern,x)"
   ]
  },
  {
   "cell_type": "code",
   "execution_count": 70,
   "id": "126f7119-df1f-495a-b99d-8a6b2ebb2676",
   "metadata": {},
   "outputs": [],
   "source": [
    "def year(x):\n",
    "    x = str(x)\n",
    "    if len(x)<4:\n",
    "        return np.nan\n",
    "    else:\n",
    "        pattern = '\\d\\d'\n",
    "        yr = re.findall(pattern,x)[0]\n",
    "        return int(yr)\n"
   ]
  },
  {
   "cell_type": "markdown",
   "id": "7ed30dcf-a560-4316-8c46-1ab1844f5968",
   "metadata": {},
   "source": [
    "Note that our reference year is 1997 here as the data is from that study.\n"
   ]
  },
  {
   "cell_type": "code",
   "execution_count": 71,
   "id": "4d789796-7fca-4530-afa7-425459d07c6b",
   "metadata": {},
   "outputs": [],
   "source": [
    "# data['year'] = list(map(year, data['DOB']))\n",
    "data['year'] = data['DOB'].apply(lambda x: year(x))\n",
    "data['year'] = 97 - data['year']\n",
    "\n",
    "data['year'] = data['year'].fillna(np.mean(data['year']))\n",
    "\n",
    "# Now we can drop the column DOB as we have extracted the information we need from this column\n",
    "data = data.drop(['DOB'], axis=1)"
   ]
  },
  {
   "cell_type": "code",
   "execution_count": 72,
   "id": "f342162e-9dd0-490f-9692-ffa630899d34",
   "metadata": {},
   "outputs": [
    {
     "data": {
      "text/html": [
       "<div>\n",
       "<style scoped>\n",
       "    .dataframe tbody tr th:only-of-type {\n",
       "        vertical-align: middle;\n",
       "    }\n",
       "\n",
       "    .dataframe tbody tr th {\n",
       "        vertical-align: top;\n",
       "    }\n",
       "\n",
       "    .dataframe thead th {\n",
       "        text-align: right;\n",
       "    }\n",
       "</style>\n",
       "<table border=\"1\" class=\"dataframe\">\n",
       "  <thead>\n",
       "    <tr style=\"text-align: right;\">\n",
       "      <th></th>\n",
       "      <th>STATE</th>\n",
       "      <th>PVASTATE</th>\n",
       "      <th>MDMAUD</th>\n",
       "      <th>RECP3</th>\n",
       "      <th>GENDER</th>\n",
       "      <th>DOMAIN</th>\n",
       "      <th>INCOME</th>\n",
       "      <th>HOMEOWNR</th>\n",
       "      <th>HV1</th>\n",
       "      <th>HV2</th>\n",
       "      <th>...</th>\n",
       "      <th>NUMPROM</th>\n",
       "      <th>CARDPROM</th>\n",
       "      <th>CARDPM12</th>\n",
       "      <th>NUMPRM12</th>\n",
       "      <th>MAXADATE</th>\n",
       "      <th>RFA_2</th>\n",
       "      <th>NGIFTALL</th>\n",
       "      <th>TIMELAG</th>\n",
       "      <th>AVGGIFT</th>\n",
       "      <th>year</th>\n",
       "    </tr>\n",
       "  </thead>\n",
       "  <tbody>\n",
       "    <tr>\n",
       "      <th>0</th>\n",
       "      <td>IL</td>\n",
       "      <td></td>\n",
       "      <td>XXXX</td>\n",
       "      <td></td>\n",
       "      <td>F</td>\n",
       "      <td>T2</td>\n",
       "      <td>NaN</td>\n",
       "      <td></td>\n",
       "      <td>479</td>\n",
       "      <td>635</td>\n",
       "      <td>...</td>\n",
       "      <td>74</td>\n",
       "      <td>27</td>\n",
       "      <td>6</td>\n",
       "      <td>14</td>\n",
       "      <td>9702</td>\n",
       "      <td>L4E</td>\n",
       "      <td>31</td>\n",
       "      <td>4.0</td>\n",
       "      <td>7.741935</td>\n",
       "      <td>60.00000</td>\n",
       "    </tr>\n",
       "    <tr>\n",
       "      <th>1</th>\n",
       "      <td>CA</td>\n",
       "      <td></td>\n",
       "      <td>XXXX</td>\n",
       "      <td></td>\n",
       "      <td>M</td>\n",
       "      <td>S1</td>\n",
       "      <td>6.0</td>\n",
       "      <td>H</td>\n",
       "      <td>5468</td>\n",
       "      <td>5218</td>\n",
       "      <td>...</td>\n",
       "      <td>32</td>\n",
       "      <td>12</td>\n",
       "      <td>6</td>\n",
       "      <td>13</td>\n",
       "      <td>9702</td>\n",
       "      <td>L2G</td>\n",
       "      <td>3</td>\n",
       "      <td>18.0</td>\n",
       "      <td>15.666667</td>\n",
       "      <td>45.00000</td>\n",
       "    </tr>\n",
       "    <tr>\n",
       "      <th>2</th>\n",
       "      <td>NC</td>\n",
       "      <td></td>\n",
       "      <td>XXXX</td>\n",
       "      <td></td>\n",
       "      <td>M</td>\n",
       "      <td>R2</td>\n",
       "      <td>3.0</td>\n",
       "      <td>U</td>\n",
       "      <td>497</td>\n",
       "      <td>546</td>\n",
       "      <td>...</td>\n",
       "      <td>63</td>\n",
       "      <td>26</td>\n",
       "      <td>6</td>\n",
       "      <td>14</td>\n",
       "      <td>9702</td>\n",
       "      <td>L4E</td>\n",
       "      <td>27</td>\n",
       "      <td>12.0</td>\n",
       "      <td>7.481481</td>\n",
       "      <td>59.51171</td>\n",
       "    </tr>\n",
       "    <tr>\n",
       "      <th>3</th>\n",
       "      <td>CA</td>\n",
       "      <td></td>\n",
       "      <td>XXXX</td>\n",
       "      <td></td>\n",
       "      <td>F</td>\n",
       "      <td>R2</td>\n",
       "      <td>1.0</td>\n",
       "      <td>U</td>\n",
       "      <td>1000</td>\n",
       "      <td>1263</td>\n",
       "      <td>...</td>\n",
       "      <td>66</td>\n",
       "      <td>27</td>\n",
       "      <td>6</td>\n",
       "      <td>14</td>\n",
       "      <td>9702</td>\n",
       "      <td>L4E</td>\n",
       "      <td>16</td>\n",
       "      <td>9.0</td>\n",
       "      <td>6.812500</td>\n",
       "      <td>69.00000</td>\n",
       "    </tr>\n",
       "    <tr>\n",
       "      <th>4</th>\n",
       "      <td>FL</td>\n",
       "      <td></td>\n",
       "      <td>XXXX</td>\n",
       "      <td>X</td>\n",
       "      <td>F</td>\n",
       "      <td>S2</td>\n",
       "      <td>3.0</td>\n",
       "      <td>H</td>\n",
       "      <td>576</td>\n",
       "      <td>594</td>\n",
       "      <td>...</td>\n",
       "      <td>113</td>\n",
       "      <td>43</td>\n",
       "      <td>10</td>\n",
       "      <td>25</td>\n",
       "      <td>9702</td>\n",
       "      <td>L2F</td>\n",
       "      <td>37</td>\n",
       "      <td>14.0</td>\n",
       "      <td>6.864865</td>\n",
       "      <td>77.00000</td>\n",
       "    </tr>\n",
       "  </tbody>\n",
       "</table>\n",
       "<p>5 rows × 28 columns</p>\n",
       "</div>"
      ],
      "text/plain": [
       "  STATE PVASTATE MDMAUD RECP3 GENDER DOMAIN  INCOME HOMEOWNR   HV1   HV2  ...  \\\n",
       "0    IL            XXXX            F     T2     NaN            479   635  ...   \n",
       "1    CA            XXXX            M     S1     6.0        H  5468  5218  ...   \n",
       "2    NC            XXXX            M     R2     3.0        U   497   546  ...   \n",
       "3    CA            XXXX            F     R2     1.0        U  1000  1263  ...   \n",
       "4    FL            XXXX     X      F     S2     3.0        H   576   594  ...   \n",
       "\n",
       "   NUMPROM  CARDPROM  CARDPM12  NUMPRM12  MAXADATE  RFA_2  NGIFTALL TIMELAG  \\\n",
       "0       74        27         6        14      9702    L4E        31     4.0   \n",
       "1       32        12         6        13      9702    L2G         3    18.0   \n",
       "2       63        26         6        14      9702    L4E        27    12.0   \n",
       "3       66        27         6        14      9702    L4E        16     9.0   \n",
       "4      113        43        10        25      9702    L2F        37    14.0   \n",
       "\n",
       "     AVGGIFT      year  \n",
       "0   7.741935  60.00000  \n",
       "1  15.666667  45.00000  \n",
       "2   7.481481  59.51171  \n",
       "3   6.812500  69.00000  \n",
       "4   6.864865  77.00000  \n",
       "\n",
       "[5 rows x 28 columns]"
      ]
     },
     "execution_count": 72,
     "metadata": {},
     "output_type": "execute_result"
    }
   ],
   "source": [
    "data.head()"
   ]
  },
  {
   "cell_type": "markdown",
   "id": "72cbe842-4a69-4e93-9de9-4d1aa25193b1",
   "metadata": {},
   "source": [
    "## Multicollinearity"
   ]
  },
  {
   "cell_type": "markdown",
   "id": "2d9f9d93-1b9c-4c9e-93ab-893f0682ea7e",
   "metadata": {},
   "source": [
    "Through multivariate linear regression, we are trying to assess the influence of each of the predictor variables on the target variable. This influence/relationship is linear and is represented by a mathematical equation. The equation is given as: `Y=β0+β1X1+β2X2+β3X3+β4X4+........+βnXn`.\n",
    "Here, each variable is trying to explain some information about the nature of `Y`, how does `Y` change with each of the predictor variables. The change in `Y` with `X` is technically variation. When the predictor variables are all independent of each other, each variable explains some information on the change in `Y`. Multicollinearity arises when the predictor variables are highly correlated. Hence some predictors are redundant as they do not reveal any new information on the change in `Y` with a change in `X`.\n",
    "\n",
    "The correlation matrix using the heat maps helps us understand the correlation between the independent variables.\n",
    "Using the `sklearn.metrics` module we calculate `R` square statistic. It measures the proportion of variance in the dependent variable that is explained by all of the independent variables.\n",
    "\n",
    "For checking multicollinearity, we calculate `R` square `k` and `VIF` (variance inflation factor) for each of the `k` independent variables. We do this by regressing the `k`-th independent variable on all of the other independent variables. That is, we treat `X` `k` as the dependent variable and use the other independent variables to predict `X` `k`.\n",
    "\n",
    "For eg. `Y=β0+β1X1+β2X2+β3X3+β4X4`\n",
    "\n",
    "Build a model `X1` vs. `X2 X3 X4`, find `R^2`, call it `R1`.\n",
    "Build a model `X2` vs. `X1 X3 X4`, find `R^2`, call it `R2`.\n",
    "and so on and so forth\n",
    "\n",
    "**Interpreting R square k** - If `R2k `equals zero, variable `k` is not correlated with any other independent variable.\n",
    "Usually, multicollinearity is a potential problem when `R2k` is greater than `0.75` and, a serious problem when `R2k` is greater than `0.9`.\n",
    "\n",
    "For each variable that we find individual R2, `VIF = 1 / ( 1 - R2k )` (for each dependent variable `k`). It is used to assess multicollinearity.\n",
    "\n",
    "**Interpretation of the variance inflation factor**: If `VIFk = 1`, variable k is not correlated with any other independent variable. Multicollinearity is a potential problem when `VIFk` is greater than 4 and, a serious problem when it is greater than 10.\n",
    "\n",
    "### Effects of Multicollinearity:\n",
    "\n",
    "1. It makes it harder to interpret the significance of variables in the regression model (we will talk about statistical significance/p-value later).\n",
    "2. It might give good enough results due to over-fitting, but those will not be very reliable (we will talk about over-fitting and under-fitting in more detail later. Over-fitting for now, you can explain to the students as a more complicated model and not very generalized ie it might work on the data at hand very well but not so well on the unknown/out of the box data.\n",
    "3. It is also important to note that it does not severely impact the model in terms of predicting power if the only prediction is the main goal of the analysis.\n",
    "\n",
    "Dealing with High Multicollinearity:\n",
    "\n",
    "1. Centering/standardizing/normalizing variables may help reduce multicollinearity.\n",
    "2. Removing one or more of the variables that are highly correlated with each other.\n"
   ]
  },
  {
   "cell_type": "markdown",
   "id": "f73de6d0-6933-4c4d-a4fd-7121bc45b47f",
   "metadata": {},
   "source": [
    "## VIF (Variance Inflation Factor)\n",
    "Additional resource [here](https://etav.github.io/python/vif_factor_python.html)"
   ]
  },
  {
   "cell_type": "code",
   "execution_count": 126,
   "id": "33a81b41-45a7-4547-a9c2-4374a44d75b2",
   "metadata": {},
   "outputs": [],
   "source": [
    "from statsmodels.stats.outliers_influence import variance_inflation_factor\n",
    "from statsmodels.tools.tools import add_constant\n",
    "\n",
    "\n",
    "# This is the code to show how to use the __variance_inflation_factor__ function\n",
    "# We are using add_constant here as VIF method in python expects the addition of a constant terms in the X features. It uses OLS but does not add the constant itself.\n",
    "# data_corr = data.copy().dropna()\n",
    "\n",
    "# # vif = {}\n",
    "# data_corr = add_constant(data_corr)\n",
    "# print(data_corr.shape)\n",
    "# for i in np.arange(data_corr.shape[1]):\n",
    "#     column_name = data_corr.columns[i]\n",
    "#     print(i, column_name)\n",
    "#     value = variance_inflation_factor(np.array(data_corr), i)\n",
    "#     vif[column_name] = value\n",
    "\n",
    "# Code to use the variance_inflation_factor technique to remove highly correlated columns\n",
    "\n",
    "# flag = True\n",
    "# threshold = 50\n",
    "# data_corr = add_constant(data_corr)\n",
    "# while flag is True:\n",
    "#     #print(data_corr.head())\n",
    "#     flag = False\n",
    "#     values = [variance_inflation_factor(np.array(data_corr), i) for i in np.arange(data_corr.shape[1])]\n",
    "#     #print(values)\n",
    "#     if max(values)> threshold:\n",
    "#         col_index = values.index(max(values))\n",
    "#         column_name = data_corr.columns[col_index]\n",
    "#         data_corr = data_corr.drop([column_name], axis=1)\n",
    "#         flag = True\n"
   ]
  },
  {
   "cell_type": "code",
   "execution_count": 111,
   "id": "7cff7820-ae77-4eef-b37f-7fd60c24be4d",
   "metadata": {},
   "outputs": [
    {
     "data": {
      "text/plain": [
       "{'const': 0.0,\n",
       " 'INCOME': inf,\n",
       " 'HV1': inf,\n",
       " 'HV2': inf,\n",
       " 'HV3': inf,\n",
       " 'HV4': inf,\n",
       " 'IC1': inf,\n",
       " 'IC2': inf,\n",
       " 'IC3': inf,\n",
       " 'IC4': inf,\n",
       " 'IC5': inf,\n",
       " 'NUMPROM': inf,\n",
       " 'CARDPROM': inf,\n",
       " 'CARDPM12': inf,\n",
       " 'NUMPRM12': inf,\n",
       " 'MAXADATE': inf,\n",
       " 'NGIFTALL': inf,\n",
       " 'TIMELAG': inf,\n",
       " 'AVGGIFT': inf,\n",
       " 'year': inf}"
      ]
     },
     "execution_count": 111,
     "metadata": {},
     "output_type": "execute_result"
    }
   ],
   "source": [
    "vif"
   ]
  },
  {
   "cell_type": "code",
   "execution_count": 91,
   "id": "f06f038b-82d2-4bb0-9f9a-bd7d19d4dd3d",
   "metadata": {},
   "outputs": [
    {
     "data": {
      "text/plain": [
       "Index(['INCOME', 'HV1', 'HV2', 'HV3', 'HV4', 'IC1', 'IC2', 'IC3', 'IC4', 'IC5',\n",
       "       'NUMPROM', 'CARDPROM', 'CARDPM12', 'NUMPRM12', 'MAXADATE', 'NGIFTALL',\n",
       "       'TIMELAG', 'AVGGIFT', 'year'],\n",
       "      dtype='object')"
      ]
     },
     "execution_count": 91,
     "metadata": {},
     "output_type": "execute_result"
    }
   ],
   "source": [
    "data.select_dtypes(include=np.number).columns"
   ]
  },
  {
   "cell_type": "code",
   "execution_count": 101,
   "id": "b2da5e5b-f52d-412c-948f-8014c289fe70",
   "metadata": {},
   "outputs": [],
   "source": [
    "df = data.copy()\n",
    "df = df.dropna()[['INCOME', 'HV1', 'HV2', 'HV3', 'HV4','AVGGIFT']]"
   ]
  },
  {
   "cell_type": "code",
   "execution_count": 105,
   "id": "d9685a8f-16e1-407d-9cde-768219e5521c",
   "metadata": {},
   "outputs": [],
   "source": [
    "from patsy import dmatrices\n",
    "\n",
    "features = \"+\".join(['INCOME', 'HV1', 'HV2', 'HV3', 'HV4'])\n",
    "\n",
    "# get y and X dataframes based on this regression:\n",
    "y, X = dmatrices('AVGGIFT ~' + features, df, return_type='dataframe')"
   ]
  },
  {
   "cell_type": "code",
   "execution_count": 122,
   "id": "f319df12-6d0e-4aad-a6f0-b53506b7265a",
   "metadata": {},
   "outputs": [
    {
     "data": {
      "text/html": [
       "<div>\n",
       "<style scoped>\n",
       "    .dataframe tbody tr th:only-of-type {\n",
       "        vertical-align: middle;\n",
       "    }\n",
       "\n",
       "    .dataframe tbody tr th {\n",
       "        vertical-align: top;\n",
       "    }\n",
       "\n",
       "    .dataframe thead th {\n",
       "        text-align: right;\n",
       "    }\n",
       "</style>\n",
       "<table border=\"1\" class=\"dataframe\">\n",
       "  <thead>\n",
       "    <tr style=\"text-align: right;\">\n",
       "      <th></th>\n",
       "      <th>Intercept</th>\n",
       "      <th>INCOME</th>\n",
       "      <th>HV1</th>\n",
       "      <th>HV2</th>\n",
       "      <th>HV3</th>\n",
       "      <th>HV4</th>\n",
       "    </tr>\n",
       "  </thead>\n",
       "  <tbody>\n",
       "    <tr>\n",
       "      <th>1</th>\n",
       "      <td>1.0</td>\n",
       "      <td>6.0</td>\n",
       "      <td>5468.0</td>\n",
       "      <td>5218.0</td>\n",
       "      <td>12.0</td>\n",
       "      <td>10.0</td>\n",
       "    </tr>\n",
       "    <tr>\n",
       "      <th>2</th>\n",
       "      <td>1.0</td>\n",
       "      <td>3.0</td>\n",
       "      <td>497.0</td>\n",
       "      <td>546.0</td>\n",
       "      <td>2.0</td>\n",
       "      <td>1.0</td>\n",
       "    </tr>\n",
       "    <tr>\n",
       "      <th>3</th>\n",
       "      <td>1.0</td>\n",
       "      <td>1.0</td>\n",
       "      <td>1000.0</td>\n",
       "      <td>1263.0</td>\n",
       "      <td>2.0</td>\n",
       "      <td>1.0</td>\n",
       "    </tr>\n",
       "    <tr>\n",
       "      <th>4</th>\n",
       "      <td>1.0</td>\n",
       "      <td>3.0</td>\n",
       "      <td>576.0</td>\n",
       "      <td>594.0</td>\n",
       "      <td>4.0</td>\n",
       "      <td>3.0</td>\n",
       "    </tr>\n",
       "    <tr>\n",
       "      <th>6</th>\n",
       "      <td>1.0</td>\n",
       "      <td>4.0</td>\n",
       "      <td>484.0</td>\n",
       "      <td>519.0</td>\n",
       "      <td>3.0</td>\n",
       "      <td>3.0</td>\n",
       "    </tr>\n",
       "    <tr>\n",
       "      <th>...</th>\n",
       "      <td>...</td>\n",
       "      <td>...</td>\n",
       "      <td>...</td>\n",
       "      <td>...</td>\n",
       "      <td>...</td>\n",
       "      <td>...</td>\n",
       "    </tr>\n",
       "    <tr>\n",
       "      <th>90559</th>\n",
       "      <td>1.0</td>\n",
       "      <td>4.0</td>\n",
       "      <td>977.0</td>\n",
       "      <td>1180.0</td>\n",
       "      <td>5.0</td>\n",
       "      <td>5.0</td>\n",
       "    </tr>\n",
       "    <tr>\n",
       "      <th>90560</th>\n",
       "      <td>1.0</td>\n",
       "      <td>6.0</td>\n",
       "      <td>922.0</td>\n",
       "      <td>1244.0</td>\n",
       "      <td>4.0</td>\n",
       "      <td>4.0</td>\n",
       "    </tr>\n",
       "    <tr>\n",
       "      <th>90562</th>\n",
       "      <td>1.0</td>\n",
       "      <td>1.0</td>\n",
       "      <td>341.0</td>\n",
       "      <td>421.0</td>\n",
       "      <td>2.0</td>\n",
       "      <td>1.0</td>\n",
       "    </tr>\n",
       "    <tr>\n",
       "      <th>90564</th>\n",
       "      <td>1.0</td>\n",
       "      <td>6.0</td>\n",
       "      <td>733.0</td>\n",
       "      <td>875.0</td>\n",
       "      <td>4.0</td>\n",
       "      <td>3.0</td>\n",
       "    </tr>\n",
       "    <tr>\n",
       "      <th>90568</th>\n",
       "      <td>1.0</td>\n",
       "      <td>5.0</td>\n",
       "      <td>938.0</td>\n",
       "      <td>1049.0</td>\n",
       "      <td>5.0</td>\n",
       "      <td>5.0</td>\n",
       "    </tr>\n",
       "  </tbody>\n",
       "</table>\n",
       "<p>63150 rows × 6 columns</p>\n",
       "</div>"
      ],
      "text/plain": [
       "       Intercept  INCOME     HV1     HV2   HV3   HV4\n",
       "1            1.0     6.0  5468.0  5218.0  12.0  10.0\n",
       "2            1.0     3.0   497.0   546.0   2.0   1.0\n",
       "3            1.0     1.0  1000.0  1263.0   2.0   1.0\n",
       "4            1.0     3.0   576.0   594.0   4.0   3.0\n",
       "6            1.0     4.0   484.0   519.0   3.0   3.0\n",
       "...          ...     ...     ...     ...   ...   ...\n",
       "90559        1.0     4.0   977.0  1180.0   5.0   5.0\n",
       "90560        1.0     6.0   922.0  1244.0   4.0   4.0\n",
       "90562        1.0     1.0   341.0   421.0   2.0   1.0\n",
       "90564        1.0     6.0   733.0   875.0   4.0   3.0\n",
       "90568        1.0     5.0   938.0  1049.0   5.0   5.0\n",
       "\n",
       "[63150 rows x 6 columns]"
      ]
     },
     "execution_count": 122,
     "metadata": {},
     "output_type": "execute_result"
    }
   ],
   "source": [
    "X"
   ]
  },
  {
   "cell_type": "code",
   "execution_count": 106,
   "id": "eb3d2705-7967-4eb9-bf29-8af8f18a8577",
   "metadata": {},
   "outputs": [],
   "source": [
    "vif = pd.DataFrame()\n",
    "vif[\"VIF Factor\"] = [variance_inflation_factor(X.values, i) for i in range(X.shape[1])]\n",
    "vif[\"features\"] = X.columns"
   ]
  },
  {
   "cell_type": "code",
   "execution_count": 107,
   "id": "809d747b-d727-4239-94a6-a1f0675e4c8d",
   "metadata": {},
   "outputs": [
    {
     "data": {
      "text/html": [
       "<div>\n",
       "<style scoped>\n",
       "    .dataframe tbody tr th:only-of-type {\n",
       "        vertical-align: middle;\n",
       "    }\n",
       "\n",
       "    .dataframe tbody tr th {\n",
       "        vertical-align: top;\n",
       "    }\n",
       "\n",
       "    .dataframe thead th {\n",
       "        text-align: right;\n",
       "    }\n",
       "</style>\n",
       "<table border=\"1\" class=\"dataframe\">\n",
       "  <thead>\n",
       "    <tr style=\"text-align: right;\">\n",
       "      <th></th>\n",
       "      <th>VIF Factor</th>\n",
       "      <th>features</th>\n",
       "    </tr>\n",
       "  </thead>\n",
       "  <tbody>\n",
       "    <tr>\n",
       "      <th>0</th>\n",
       "      <td>7.2</td>\n",
       "      <td>Intercept</td>\n",
       "    </tr>\n",
       "    <tr>\n",
       "      <th>1</th>\n",
       "      <td>1.2</td>\n",
       "      <td>INCOME</td>\n",
       "    </tr>\n",
       "    <tr>\n",
       "      <th>2</th>\n",
       "      <td>76.3</td>\n",
       "      <td>HV1</td>\n",
       "    </tr>\n",
       "    <tr>\n",
       "      <th>3</th>\n",
       "      <td>77.3</td>\n",
       "      <td>HV2</td>\n",
       "    </tr>\n",
       "    <tr>\n",
       "      <th>4</th>\n",
       "      <td>9.3</td>\n",
       "      <td>HV3</td>\n",
       "    </tr>\n",
       "    <tr>\n",
       "      <th>5</th>\n",
       "      <td>8.7</td>\n",
       "      <td>HV4</td>\n",
       "    </tr>\n",
       "  </tbody>\n",
       "</table>\n",
       "</div>"
      ],
      "text/plain": [
       "   VIF Factor   features\n",
       "0         7.2  Intercept\n",
       "1         1.2     INCOME\n",
       "2        76.3        HV1\n",
       "3        77.3        HV2\n",
       "4         9.3        HV3\n",
       "5         8.7        HV4"
      ]
     },
     "execution_count": 107,
     "metadata": {},
     "output_type": "execute_result"
    }
   ],
   "source": [
    "vif.round(1)"
   ]
  },
  {
   "cell_type": "code",
   "execution_count": null,
   "id": "517c8e13-4b0d-41a4-9e7d-e5a21ecbace3",
   "metadata": {},
   "outputs": [],
   "source": []
  }
 ],
 "metadata": {
  "kernelspec": {
   "display_name": "Python 3",
   "language": "python",
   "name": "python3"
  },
  "language_info": {
   "codemirror_mode": {
    "name": "ipython",
    "version": 3
   },
   "file_extension": ".py",
   "mimetype": "text/x-python",
   "name": "python",
   "nbconvert_exporter": "python",
   "pygments_lexer": "ipython3",
   "version": "3.8.2"
  }
 },
 "nbformat": 4,
 "nbformat_minor": 5
}
