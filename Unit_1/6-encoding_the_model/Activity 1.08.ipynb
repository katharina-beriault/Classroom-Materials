{
 "cells": [
  {
   "cell_type": "code",
   "execution_count": 1,
   "id": "a1b9cf9b",
   "metadata": {},
   "outputs": [],
   "source": [
    "import pandas as pd\n",
    "import numpy as np\n",
    "import math\n",
    "from sklearn.preprocessing import OneHotEncoder, Normalizer, LabelEncoder\n",
    "from sklearn.model_selection import train_test_split\n",
    "from sklearn.linear_model import LinearRegression\n",
    "from sklearn.metrics import r2_score, mean_squared_error"
   ]
  },
  {
   "cell_type": "code",
   "execution_count": 2,
   "id": "f49608a4",
   "metadata": {},
   "outputs": [
    {
     "data": {
      "text/html": [
       "<div>\n",
       "<style scoped>\n",
       "    .dataframe tbody tr th:only-of-type {\n",
       "        vertical-align: middle;\n",
       "    }\n",
       "\n",
       "    .dataframe tbody tr th {\n",
       "        vertical-align: top;\n",
       "    }\n",
       "\n",
       "    .dataframe thead th {\n",
       "        text-align: right;\n",
       "    }\n",
       "</style>\n",
       "<table border=\"1\" class=\"dataframe\">\n",
       "  <thead>\n",
       "    <tr style=\"text-align: right;\">\n",
       "      <th></th>\n",
       "      <th>AVGGIFT</th>\n",
       "      <th>HV1_log</th>\n",
       "      <th>IC1_transformed</th>\n",
       "      <th>IC5_transformed</th>\n",
       "      <th>gender</th>\n",
       "      <th>TARGET_D</th>\n",
       "    </tr>\n",
       "  </thead>\n",
       "  <tbody>\n",
       "    <tr>\n",
       "      <th>0</th>\n",
       "      <td>15.500000</td>\n",
       "      <td>7.760467</td>\n",
       "      <td>17.343389</td>\n",
       "      <td>4.181353</td>\n",
       "      <td>Male</td>\n",
       "      <td>21.0</td>\n",
       "    </tr>\n",
       "    <tr>\n",
       "      <th>1</th>\n",
       "      <td>3.080000</td>\n",
       "      <td>6.208590</td>\n",
       "      <td>16.230984</td>\n",
       "      <td>4.150313</td>\n",
       "      <td>Male</td>\n",
       "      <td>3.0</td>\n",
       "    </tr>\n",
       "    <tr>\n",
       "      <th>2</th>\n",
       "      <td>7.500000</td>\n",
       "      <td>7.113956</td>\n",
       "      <td>18.047227</td>\n",
       "      <td>4.205057</td>\n",
       "      <td>Female</td>\n",
       "      <td>20.0</td>\n",
       "    </tr>\n",
       "    <tr>\n",
       "      <th>3</th>\n",
       "      <td>6.700000</td>\n",
       "      <td>5.783825</td>\n",
       "      <td>11.737110</td>\n",
       "      <td>4.055333</td>\n",
       "      <td>Male</td>\n",
       "      <td>5.0</td>\n",
       "    </tr>\n",
       "    <tr>\n",
       "      <th>4</th>\n",
       "      <td>8.785714</td>\n",
       "      <td>6.643790</td>\n",
       "      <td>12.494862</td>\n",
       "      <td>4.088969</td>\n",
       "      <td>Female</td>\n",
       "      <td>10.0</td>\n",
       "    </tr>\n",
       "    <tr>\n",
       "      <th>...</th>\n",
       "      <td>...</td>\n",
       "      <td>...</td>\n",
       "      <td>...</td>\n",
       "      <td>...</td>\n",
       "      <td>...</td>\n",
       "      <td>...</td>\n",
       "    </tr>\n",
       "    <tr>\n",
       "      <th>4665</th>\n",
       "      <td>15.500000</td>\n",
       "      <td>6.552508</td>\n",
       "      <td>15.280561</td>\n",
       "      <td>4.187901</td>\n",
       "      <td>Male</td>\n",
       "      <td>25.0</td>\n",
       "    </tr>\n",
       "    <tr>\n",
       "      <th>4666</th>\n",
       "      <td>11.857143</td>\n",
       "      <td>8.118803</td>\n",
       "      <td>15.029617</td>\n",
       "      <td>4.248632</td>\n",
       "      <td>Male</td>\n",
       "      <td>19.0</td>\n",
       "    </tr>\n",
       "    <tr>\n",
       "      <th>4667</th>\n",
       "      <td>11.333333</td>\n",
       "      <td>6.551080</td>\n",
       "      <td>15.742430</td>\n",
       "      <td>4.179506</td>\n",
       "      <td>Female</td>\n",
       "      <td>10.0</td>\n",
       "    </tr>\n",
       "    <tr>\n",
       "      <th>4668</th>\n",
       "      <td>13.000000</td>\n",
       "      <td>6.398595</td>\n",
       "      <td>13.326031</td>\n",
       "      <td>4.124159</td>\n",
       "      <td>Male</td>\n",
       "      <td>25.0</td>\n",
       "    </tr>\n",
       "    <tr>\n",
       "      <th>4669</th>\n",
       "      <td>17.923077</td>\n",
       "      <td>6.823286</td>\n",
       "      <td>17.417748</td>\n",
       "      <td>4.256304</td>\n",
       "      <td>Male</td>\n",
       "      <td>25.0</td>\n",
       "    </tr>\n",
       "  </tbody>\n",
       "</table>\n",
       "<p>4670 rows × 6 columns</p>\n",
       "</div>"
      ],
      "text/plain": [
       "        AVGGIFT   HV1_log  IC1_transformed  IC5_transformed  gender  TARGET_D\n",
       "0     15.500000  7.760467        17.343389         4.181353    Male      21.0\n",
       "1      3.080000  6.208590        16.230984         4.150313    Male       3.0\n",
       "2      7.500000  7.113956        18.047227         4.205057  Female      20.0\n",
       "3      6.700000  5.783825        11.737110         4.055333    Male       5.0\n",
       "4      8.785714  6.643790        12.494862         4.088969  Female      10.0\n",
       "...         ...       ...              ...              ...     ...       ...\n",
       "4665  15.500000  6.552508        15.280561         4.187901    Male      25.0\n",
       "4666  11.857143  8.118803        15.029617         4.248632    Male      19.0\n",
       "4667  11.333333  6.551080        15.742430         4.179506  Female      10.0\n",
       "4668  13.000000  6.398595        13.326031         4.124159    Male      25.0\n",
       "4669  17.923077  6.823286        17.417748         4.256304    Male      25.0\n",
       "\n",
       "[4670 rows x 6 columns]"
      ]
     },
     "execution_count": 2,
     "metadata": {},
     "output_type": "execute_result"
    }
   ],
   "source": [
    "data = pd.read_csv('regression_data.csv')\n",
    "data"
   ]
  },
  {
   "cell_type": "code",
   "execution_count": 3,
   "id": "b1f7a547",
   "metadata": {},
   "outputs": [],
   "source": [
    "y = data['TARGET_D']\n",
    "X = data.drop(['TARGET_D'], axis=1)"
   ]
  },
  {
   "cell_type": "code",
   "execution_count": 4,
   "id": "e8ffddfa",
   "metadata": {},
   "outputs": [],
   "source": [
    "X_num = X.select_dtypes(include = np.number)\n",
    "X_cat = X.select_dtypes(include = object)"
   ]
  },
  {
   "cell_type": "code",
   "execution_count": 5,
   "id": "ba49ba19",
   "metadata": {},
   "outputs": [
    {
     "data": {
      "text/html": [
       "<div>\n",
       "<style scoped>\n",
       "    .dataframe tbody tr th:only-of-type {\n",
       "        vertical-align: middle;\n",
       "    }\n",
       "\n",
       "    .dataframe tbody tr th {\n",
       "        vertical-align: top;\n",
       "    }\n",
       "\n",
       "    .dataframe thead th {\n",
       "        text-align: right;\n",
       "    }\n",
       "</style>\n",
       "<table border=\"1\" class=\"dataframe\">\n",
       "  <thead>\n",
       "    <tr style=\"text-align: right;\">\n",
       "      <th></th>\n",
       "      <th>gender_Male</th>\n",
       "      <th>gender_U</th>\n",
       "    </tr>\n",
       "  </thead>\n",
       "  <tbody>\n",
       "    <tr>\n",
       "      <th>0</th>\n",
       "      <td>1</td>\n",
       "      <td>0</td>\n",
       "    </tr>\n",
       "    <tr>\n",
       "      <th>1</th>\n",
       "      <td>1</td>\n",
       "      <td>0</td>\n",
       "    </tr>\n",
       "    <tr>\n",
       "      <th>2</th>\n",
       "      <td>0</td>\n",
       "      <td>0</td>\n",
       "    </tr>\n",
       "    <tr>\n",
       "      <th>3</th>\n",
       "      <td>1</td>\n",
       "      <td>0</td>\n",
       "    </tr>\n",
       "    <tr>\n",
       "      <th>4</th>\n",
       "      <td>0</td>\n",
       "      <td>0</td>\n",
       "    </tr>\n",
       "    <tr>\n",
       "      <th>...</th>\n",
       "      <td>...</td>\n",
       "      <td>...</td>\n",
       "    </tr>\n",
       "    <tr>\n",
       "      <th>4665</th>\n",
       "      <td>1</td>\n",
       "      <td>0</td>\n",
       "    </tr>\n",
       "    <tr>\n",
       "      <th>4666</th>\n",
       "      <td>1</td>\n",
       "      <td>0</td>\n",
       "    </tr>\n",
       "    <tr>\n",
       "      <th>4667</th>\n",
       "      <td>0</td>\n",
       "      <td>0</td>\n",
       "    </tr>\n",
       "    <tr>\n",
       "      <th>4668</th>\n",
       "      <td>1</td>\n",
       "      <td>0</td>\n",
       "    </tr>\n",
       "    <tr>\n",
       "      <th>4669</th>\n",
       "      <td>1</td>\n",
       "      <td>0</td>\n",
       "    </tr>\n",
       "  </tbody>\n",
       "</table>\n",
       "<p>4670 rows × 2 columns</p>\n",
       "</div>"
      ],
      "text/plain": [
       "      gender_Male  gender_U\n",
       "0               1         0\n",
       "1               1         0\n",
       "2               0         0\n",
       "3               1         0\n",
       "4               0         0\n",
       "...           ...       ...\n",
       "4665            1         0\n",
       "4666            1         0\n",
       "4667            0         0\n",
       "4668            1         0\n",
       "4669            1         0\n",
       "\n",
       "[4670 rows x 2 columns]"
      ]
     },
     "execution_count": 5,
     "metadata": {},
     "output_type": "execute_result"
    }
   ],
   "source": [
    "cat_data = pd.get_dummies(X_cat, drop_first=True) # if you need to save the encoding info, this won't do\n",
    "cat_data"
   ]
  },
  {
   "cell_type": "code",
   "execution_count": 6,
   "id": "ea75406a",
   "metadata": {},
   "outputs": [
    {
     "name": "stderr",
     "output_type": "stream",
     "text": [
      "c:\\users\\katha\\appdata\\local\\programs\\python\\python39\\lib\\site-packages\\sklearn\\utils\\validation.py:63: DataConversionWarning: A column-vector y was passed when a 1d array was expected. Please change the shape of y to (n_samples, ), for example using ravel().\n",
      "  return f(*args, **kwargs)\n"
     ]
    },
    {
     "data": {
      "text/html": [
       "<div>\n",
       "<style scoped>\n",
       "    .dataframe tbody tr th:only-of-type {\n",
       "        vertical-align: middle;\n",
       "    }\n",
       "\n",
       "    .dataframe tbody tr th {\n",
       "        vertical-align: top;\n",
       "    }\n",
       "\n",
       "    .dataframe thead th {\n",
       "        text-align: right;\n",
       "    }\n",
       "</style>\n",
       "<table border=\"1\" class=\"dataframe\">\n",
       "  <thead>\n",
       "    <tr style=\"text-align: right;\">\n",
       "      <th></th>\n",
       "      <th>0</th>\n",
       "    </tr>\n",
       "  </thead>\n",
       "  <tbody>\n",
       "    <tr>\n",
       "      <th>0</th>\n",
       "      <td>1</td>\n",
       "    </tr>\n",
       "    <tr>\n",
       "      <th>1</th>\n",
       "      <td>1</td>\n",
       "    </tr>\n",
       "    <tr>\n",
       "      <th>2</th>\n",
       "      <td>0</td>\n",
       "    </tr>\n",
       "    <tr>\n",
       "      <th>3</th>\n",
       "      <td>1</td>\n",
       "    </tr>\n",
       "    <tr>\n",
       "      <th>4</th>\n",
       "      <td>0</td>\n",
       "    </tr>\n",
       "    <tr>\n",
       "      <th>...</th>\n",
       "      <td>...</td>\n",
       "    </tr>\n",
       "    <tr>\n",
       "      <th>4665</th>\n",
       "      <td>1</td>\n",
       "    </tr>\n",
       "    <tr>\n",
       "      <th>4666</th>\n",
       "      <td>1</td>\n",
       "    </tr>\n",
       "    <tr>\n",
       "      <th>4667</th>\n",
       "      <td>0</td>\n",
       "    </tr>\n",
       "    <tr>\n",
       "      <th>4668</th>\n",
       "      <td>1</td>\n",
       "    </tr>\n",
       "    <tr>\n",
       "      <th>4669</th>\n",
       "      <td>1</td>\n",
       "    </tr>\n",
       "  </tbody>\n",
       "</table>\n",
       "<p>4670 rows × 1 columns</p>\n",
       "</div>"
      ],
      "text/plain": [
       "      0\n",
       "0     1\n",
       "1     1\n",
       "2     0\n",
       "3     1\n",
       "4     0\n",
       "...  ..\n",
       "4665  1\n",
       "4666  1\n",
       "4667  0\n",
       "4668  1\n",
       "4669  1\n",
       "\n",
       "[4670 rows x 1 columns]"
      ]
     },
     "execution_count": 6,
     "metadata": {},
     "output_type": "execute_result"
    }
   ],
   "source": [
    "le = LabelEncoder().fit(X_cat).transform(X_cat)\n",
    "label = pd.DataFrame(le)\n",
    "label"
   ]
  },
  {
   "cell_type": "code",
   "execution_count": 7,
   "id": "5b89c123",
   "metadata": {},
   "outputs": [
    {
     "name": "stdout",
     "output_type": "stream",
     "text": [
      "(4670, 4)\n"
     ]
    }
   ],
   "source": [
    "transformer = Normalizer().fit(X_num)\n",
    "x_normalized = transformer.transform(X_num)\n",
    "print(x_normalized.shape)"
   ]
  },
  {
   "cell_type": "code",
   "execution_count": 8,
   "id": "bd25de12",
   "metadata": {},
   "outputs": [
    {
     "data": {
      "text/plain": [
       "((4670, 4), (4670, 2), (4670, 1))"
      ]
     },
     "execution_count": 8,
     "metadata": {},
     "output_type": "execute_result"
    }
   ],
   "source": [
    "x_normalized.shape, cat_data.shape, label.shape"
   ]
  },
  {
   "cell_type": "code",
   "execution_count": 9,
   "id": "1eec8b1f",
   "metadata": {},
   "outputs": [],
   "source": [
    "X1 = np.concatenate([x_normalized, cat_data], axis=1)\n",
    "X2 = np.concatenate([x_normalized, label], axis=1)"
   ]
  },
  {
   "cell_type": "code",
   "execution_count": 10,
   "id": "3cd82a02",
   "metadata": {},
   "outputs": [],
   "source": [
    "X1_train, X1_test, y_train, y_test = train_test_split(X1, y, test_size=0.3, random_state=42)\n",
    "X2_train, X2_test, y_train, y_test = train_test_split(X2, y, test_size=0.3, random_state=42)"
   ]
  },
  {
   "cell_type": "code",
   "execution_count": 11,
   "id": "af34ad1e",
   "metadata": {},
   "outputs": [
    {
     "data": {
      "text/plain": [
       "LinearRegression()"
      ]
     },
     "execution_count": 11,
     "metadata": {},
     "output_type": "execute_result"
    }
   ],
   "source": [
    "model1 = LinearRegression()\n",
    "model1.fit(X1_train,y_train)"
   ]
  },
  {
   "cell_type": "code",
   "execution_count": 12,
   "id": "24eeed88",
   "metadata": {},
   "outputs": [
    {
     "data": {
      "text/plain": [
       "(1401,)"
      ]
     },
     "execution_count": 12,
     "metadata": {},
     "output_type": "execute_result"
    }
   ],
   "source": [
    "predictions1  = model1.predict(X1_test)\n",
    "predictions1.shape"
   ]
  },
  {
   "cell_type": "code",
   "execution_count": 13,
   "id": "267a3297",
   "metadata": {},
   "outputs": [
    {
     "data": {
      "text/plain": [
       "(0.34480717480585454, 10.818463076649035, 117.03914334081851)"
      ]
     },
     "execution_count": 13,
     "metadata": {},
     "output_type": "execute_result"
    }
   ],
   "source": [
    "r2_score(y_test, predictions1), mean_squared_error(y_test, predictions1, squared=False), mean_squared_error(y_test, predictions1)"
   ]
  },
  {
   "cell_type": "code",
   "execution_count": 14,
   "id": "a726c8a3",
   "metadata": {},
   "outputs": [
    {
     "data": {
      "text/plain": [
       "LinearRegression()"
      ]
     },
     "execution_count": 14,
     "metadata": {},
     "output_type": "execute_result"
    }
   ],
   "source": [
    "model2 = LinearRegression()\n",
    "model2.fit(X2_train,y_train)"
   ]
  },
  {
   "cell_type": "code",
   "execution_count": 15,
   "id": "27cfb1a4",
   "metadata": {},
   "outputs": [
    {
     "data": {
      "text/plain": [
       "(1401,)"
      ]
     },
     "execution_count": 15,
     "metadata": {},
     "output_type": "execute_result"
    }
   ],
   "source": [
    "predictions2  = model2.predict(X2_test)\n",
    "predictions2.shape"
   ]
  },
  {
   "cell_type": "code",
   "execution_count": 16,
   "id": "08d13eed",
   "metadata": {},
   "outputs": [
    {
     "data": {
      "text/plain": [
       "(0.34473225081636627, 10.819081626800385, 117.05252724736967)"
      ]
     },
     "execution_count": 16,
     "metadata": {},
     "output_type": "execute_result"
    }
   ],
   "source": [
    "r2_score(y_test, predictions2), mean_squared_error(y_test, predictions2, squared=False), mean_squared_error(y_test, predictions2)"
   ]
  },
  {
   "cell_type": "code",
   "execution_count": 17,
   "id": "4a573a1e",
   "metadata": {},
   "outputs": [
    {
     "name": "stdout",
     "output_type": "stream",
     "text": [
      "0.34480717480585454\n",
      "0.34198711960415806\n"
     ]
    }
   ],
   "source": [
    "#adjusted r2\n",
    "\n",
    "r2_1 = r2_score(y_test, predictions1)\n",
    "print(r2_1)\n",
    "\n",
    "n = len(X1_test)\n",
    "p = X1_test.shape[1]\n",
    "adj_r2_1 = 1-((1-r2_1)*(n-1)/(n-p-1))\n",
    "print(adj_r2_1)"
   ]
  },
  {
   "cell_type": "code",
   "execution_count": 18,
   "id": "488f8aed",
   "metadata": {},
   "outputs": [
    {
     "name": "stdout",
     "output_type": "stream",
     "text": [
      "Requirement already satisfied: jupyterlab in c:\\users\\katha\\appdata\\local\\programs\\python\\python39\\lib\\site-packages (3.0.16)\n",
      "Requirement already satisfied: tornado>=6.1.0 in c:\\users\\katha\\appdata\\local\\programs\\python\\python39\\lib\\site-packages (from jupyterlab) (6.1)\n",
      "Requirement already satisfied: jinja2>=2.1 in c:\\users\\katha\\appdata\\local\\programs\\python\\python39\\lib\\site-packages (from jupyterlab) (2.11.3)\n",
      "Requirement already satisfied: packaging in c:\\users\\katha\\appdata\\local\\programs\\python\\python39\\lib\\site-packages (from jupyterlab) (20.9)\n",
      "Requirement already satisfied: nbclassic~=0.2 in c:\\users\\katha\\appdata\\local\\programs\\python\\python39\\lib\\site-packages (from jupyterlab) (0.3.1)\n",
      "Requirement already satisfied: jupyter-core in c:\\users\\katha\\appdata\\local\\programs\\python\\python39\\lib\\site-packages (from jupyterlab) (4.7.1)\n",
      "Requirement already satisfied: jupyterlab-server~=2.3 in c:\\users\\katha\\appdata\\local\\programs\\python\\python39\\lib\\site-packages (from jupyterlab) (2.6.0)\n",
      "Requirement already satisfied: jupyter-server~=1.4 in c:\\users\\katha\\appdata\\local\\programs\\python\\python39\\lib\\site-packages (from jupyterlab) (1.8.0)\n",
      "Requirement already satisfied: ipython in c:\\users\\katha\\appdata\\local\\programs\\python\\python39\\lib\\site-packages (from jupyterlab) (7.22.0)\n",
      "Requirement already satisfied: MarkupSafe>=0.23 in c:\\users\\katha\\appdata\\local\\programs\\python\\python39\\lib\\site-packages (from jinja2>=2.1->jupyterlab) (1.1.1)\n",
      "Requirement already satisfied: ipython-genutils in c:\\users\\katha\\appdata\\local\\programs\\python\\python39\\lib\\site-packages (from jupyter-server~=1.4->jupyterlab) (0.2.0)\n",
      "Requirement already satisfied: traitlets>=4.2.1 in c:\\users\\katha\\appdata\\local\\programs\\python\\python39\\lib\\site-packages (from jupyter-server~=1.4->jupyterlab) (5.0.5)\n",
      "Requirement already satisfied: Send2Trash in c:\\users\\katha\\appdata\\local\\programs\\python\\python39\\lib\\site-packages (from jupyter-server~=1.4->jupyterlab) (1.5.0)\n",
      "Requirement already satisfied: terminado>=0.8.3 in c:\\users\\katha\\appdata\\local\\programs\\python\\python39\\lib\\site-packages (from jupyter-server~=1.4->jupyterlab) (0.9.4)\n",
      "Requirement already satisfied: argon2-cffi in c:\\users\\katha\\appdata\\local\\programs\\python\\python39\\lib\\site-packages (from jupyter-server~=1.4->jupyterlab) (20.1.0)\n",
      "Requirement already satisfied: pyzmq>=17 in c:\\users\\katha\\appdata\\local\\programs\\python\\python39\\lib\\site-packages (from jupyter-server~=1.4->jupyterlab) (22.0.3)\n",
      "Requirement already satisfied: nbconvert in c:\\users\\katha\\appdata\\local\\programs\\python\\python39\\lib\\site-packages (from jupyter-server~=1.4->jupyterlab) (6.0.7)\n",
      "Requirement already satisfied: nbformat in c:\\users\\katha\\appdata\\local\\programs\\python\\python39\\lib\\site-packages (from jupyter-server~=1.4->jupyterlab) (5.1.3)\n",
      "Requirement already satisfied: websocket-client in c:\\users\\katha\\appdata\\local\\programs\\python\\python39\\lib\\site-packages (from jupyter-server~=1.4->jupyterlab) (1.1.0)\n",
      "Requirement already satisfied: anyio<4,>=3.1.0 in c:\\users\\katha\\appdata\\local\\programs\\python\\python39\\lib\\site-packages (from jupyter-server~=1.4->jupyterlab) (3.1.0)\n",
      "Requirement already satisfied: jupyter-client>=6.1.1 in c:\\users\\katha\\appdata\\local\\programs\\python\\python39\\lib\\site-packages (from jupyter-server~=1.4->jupyterlab) (6.1.12)\n",
      "Requirement already satisfied: prometheus-client in c:\\users\\katha\\appdata\\local\\programs\\python\\python39\\lib\\site-packages (from jupyter-server~=1.4->jupyterlab) (0.10.1)\n",
      "Requirement already satisfied: sniffio>=1.1 in c:\\users\\katha\\appdata\\local\\programs\\python\\python39\\lib\\site-packages (from anyio<4,>=3.1.0->jupyter-server~=1.4->jupyterlab) (1.2.0)\n",
      "Requirement already satisfied: idna>=2.8 in c:\\users\\katha\\appdata\\local\\programs\\python\\python39\\lib\\site-packages (from anyio<4,>=3.1.0->jupyter-server~=1.4->jupyterlab) (2.10)\n",
      "Requirement already satisfied: python-dateutil>=2.1 in c:\\users\\katha\\appdata\\local\\programs\\python\\python39\\lib\\site-packages (from jupyter-client>=6.1.1->jupyter-server~=1.4->jupyterlab) (2.8.1)\n",
      "Requirement already satisfied: pywin32>=1.0 in c:\\users\\katha\\appdata\\local\\programs\\python\\python39\\lib\\site-packages (from jupyter-core->jupyterlab) (300)\n",
      "Requirement already satisfied: babel in c:\\users\\katha\\appdata\\local\\programs\\python\\python39\\lib\\site-packages (from jupyterlab-server~=2.3->jupyterlab) (2.9.1)\n",
      "Requirement already satisfied: json5 in c:\\users\\katha\\appdata\\local\\programs\\python\\python39\\lib\\site-packages (from jupyterlab-server~=2.3->jupyterlab) (0.9.5)\n",
      "Requirement already satisfied: jsonschema>=3.0.1 in c:\\users\\katha\\appdata\\local\\programs\\python\\python39\\lib\\site-packages (from jupyterlab-server~=2.3->jupyterlab) (3.2.0)\n",
      "Requirement already satisfied: requests in c:\\users\\katha\\appdata\\local\\programs\\python\\python39\\lib\\site-packages (from jupyterlab-server~=2.3->jupyterlab) (2.25.1)\n",
      "Requirement already satisfied: six>=1.11.0 in c:\\users\\katha\\appdata\\local\\programs\\python\\python39\\lib\\site-packages (from jsonschema>=3.0.1->jupyterlab-server~=2.3->jupyterlab) (1.15.0)\n",
      "Requirement already satisfied: setuptools in c:\\users\\katha\\appdata\\local\\programs\\python\\python39\\lib\\site-packages (from jsonschema>=3.0.1->jupyterlab-server~=2.3->jupyterlab) (49.2.1)\n",
      "Requirement already satisfied: pyrsistent>=0.14.0 in c:\\users\\katha\\appdata\\local\\programs\\python\\python39\\lib\\site-packages (from jsonschema>=3.0.1->jupyterlab-server~=2.3->jupyterlab) (0.17.3)\n",
      "Requirement already satisfied: attrs>=17.4.0 in c:\\users\\katha\\appdata\\local\\programs\\python\\python39\\lib\\site-packages (from jsonschema>=3.0.1->jupyterlab-server~=2.3->jupyterlab) (20.3.0)\n",
      "Requirement already satisfied: notebook<7 in c:\\users\\katha\\appdata\\local\\programs\\python\\python39\\lib\\site-packages (from nbclassic~=0.2->jupyterlab) (6.3.0)\n",
      "Requirement already satisfied: ipykernel in c:\\users\\katha\\appdata\\local\\programs\\python\\python39\\lib\\site-packages (from notebook<7->nbclassic~=0.2->jupyterlab) (5.5.3)\n",
      "Requirement already satisfied: pywinpty>=0.5 in c:\\users\\katha\\appdata\\local\\programs\\python\\python39\\lib\\site-packages (from terminado>=0.8.3->jupyter-server~=1.4->jupyterlab) (1.0.1)\n",
      "Requirement already satisfied: cffi>=1.0.0 in c:\\users\\katha\\appdata\\local\\programs\\python\\python39\\lib\\site-packages (from argon2-cffi->jupyter-server~=1.4->jupyterlab) (1.14.5)\n",
      "Requirement already satisfied: pycparser in c:\\users\\katha\\appdata\\local\\programs\\python\\python39\\lib\\site-packages (from cffi>=1.0.0->argon2-cffi->jupyter-server~=1.4->jupyterlab) (2.20)\n",
      "Requirement already satisfied: pytz>=2015.7 in c:\\users\\katha\\appdata\\local\\programs\\python\\python39\\lib\\site-packages (from babel->jupyterlab-server~=2.3->jupyterlab) (2021.1)\n",
      "Requirement already satisfied: backcall in c:\\users\\katha\\appdata\\local\\programs\\python\\python39\\lib\\site-packages (from ipython->jupyterlab) (0.2.0)\n",
      "Requirement already satisfied: jedi>=0.16 in c:\\users\\katha\\appdata\\local\\programs\\python\\python39\\lib\\site-packages (from ipython->jupyterlab) (0.18.0)\n",
      "Requirement already satisfied: pickleshare in c:\\users\\katha\\appdata\\local\\programs\\python\\python39\\lib\\site-packages (from ipython->jupyterlab) (0.7.5)\n",
      "Requirement already satisfied: colorama in c:\\users\\katha\\appdata\\local\\programs\\python\\python39\\lib\\site-packages (from ipython->jupyterlab) (0.4.4)\n",
      "Requirement already satisfied: decorator in c:\\users\\katha\\appdata\\local\\programs\\python\\python39\\lib\\site-packages (from ipython->jupyterlab) (5.0.7)\n",
      "Requirement already satisfied: pygments in c:\\users\\katha\\appdata\\local\\programs\\python\\python39\\lib\\site-packages (from ipython->jupyterlab) (2.8.1)\n",
      "Requirement already satisfied: prompt-toolkit!=3.0.0,!=3.0.1,<3.1.0,>=2.0.0 in c:\\users\\katha\\appdata\\local\\programs\\python\\python39\\lib\\site-packages (from ipython->jupyterlab) (3.0.18)\n",
      "Requirement already satisfied: parso<0.9.0,>=0.8.0 in c:\\users\\katha\\appdata\\local\\programs\\python\\python39\\lib\\site-packages (from jedi>=0.16->ipython->jupyterlab) (0.8.2)\n",
      "Requirement already satisfied: wcwidth in c:\\users\\katha\\appdata\\local\\programs\\python\\python39\\lib\\site-packages (from prompt-toolkit!=3.0.0,!=3.0.1,<3.1.0,>=2.0.0->ipython->jupyterlab) (0.2.5)\n",
      "Requirement already satisfied: testpath in c:\\users\\katha\\appdata\\local\\programs\\python\\python39\\lib\\site-packages (from nbconvert->jupyter-server~=1.4->jupyterlab) (0.4.4)\n",
      "Requirement already satisfied: jupyterlab-pygments in c:\\users\\katha\\appdata\\local\\programs\\python\\python39\\lib\\site-packages (from nbconvert->jupyter-server~=1.4->jupyterlab) (0.1.2)\n",
      "Requirement already satisfied: defusedxml in c:\\users\\katha\\appdata\\local\\programs\\python\\python39\\lib\\site-packages (from nbconvert->jupyter-server~=1.4->jupyterlab) (0.7.1)\n",
      "Requirement already satisfied: entrypoints>=0.2.2 in c:\\users\\katha\\appdata\\local\\programs\\python\\python39\\lib\\site-packages (from nbconvert->jupyter-server~=1.4->jupyterlab) (0.3)\n",
      "Requirement already satisfied: pandocfilters>=1.4.1 in c:\\users\\katha\\appdata\\local\\programs\\python\\python39\\lib\\site-packages (from nbconvert->jupyter-server~=1.4->jupyterlab) (1.4.3)\n",
      "Requirement already satisfied: nbclient<0.6.0,>=0.5.0 in c:\\users\\katha\\appdata\\local\\programs\\python\\python39\\lib\\site-packages (from nbconvert->jupyter-server~=1.4->jupyterlab) (0.5.3)\n",
      "Requirement already satisfied: mistune<2,>=0.8.1 in c:\\users\\katha\\appdata\\local\\programs\\python\\python39\\lib\\site-packages (from nbconvert->jupyter-server~=1.4->jupyterlab) (0.8.4)\n",
      "Requirement already satisfied: bleach in c:\\users\\katha\\appdata\\local\\programs\\python\\python39\\lib\\site-packages (from nbconvert->jupyter-server~=1.4->jupyterlab) (3.3.0)\n",
      "Requirement already satisfied: nest-asyncio in c:\\users\\katha\\appdata\\local\\programs\\python\\python39\\lib\\site-packages (from nbclient<0.6.0,>=0.5.0->nbconvert->jupyter-server~=1.4->jupyterlab) (1.5.1)\n",
      "Requirement already satisfied: async-generator in c:\\users\\katha\\appdata\\local\\programs\\python\\python39\\lib\\site-packages (from nbclient<0.6.0,>=0.5.0->nbconvert->jupyter-server~=1.4->jupyterlab) (1.10)\n",
      "Requirement already satisfied: webencodings in c:\\users\\katha\\appdata\\local\\programs\\python\\python39\\lib\\site-packages (from bleach->nbconvert->jupyter-server~=1.4->jupyterlab) (0.5.1)\n",
      "Requirement already satisfied: pyparsing>=2.0.2 in c:\\users\\katha\\appdata\\local\\programs\\python\\python39\\lib\\site-packages (from packaging->jupyterlab) (2.4.7)\n",
      "Requirement already satisfied: certifi>=2017.4.17 in c:\\users\\katha\\appdata\\local\\programs\\python\\python39\\lib\\site-packages (from requests->jupyterlab-server~=2.3->jupyterlab) (2021.5.30)\n",
      "Requirement already satisfied: chardet<5,>=3.0.2 in c:\\users\\katha\\appdata\\local\\programs\\python\\python39\\lib\\site-packages (from requests->jupyterlab-server~=2.3->jupyterlab) (4.0.0)\n",
      "Requirement already satisfied: urllib3<1.27,>=1.21.1 in c:\\users\\katha\\appdata\\local\\programs\\python\\python39\\lib\\site-packages (from requests->jupyterlab-server~=2.3->jupyterlab) (1.26.5)\n",
      "Note: you may need to restart the kernel to use updated packages.\n"
     ]
    }
   ],
   "source": [
    "pip install jupyterlab"
   ]
  },
  {
   "cell_type": "code",
   "execution_count": null,
   "id": "dcc979f9",
   "metadata": {},
   "outputs": [],
   "source": []
  }
 ],
 "metadata": {
  "kernelspec": {
   "display_name": "Python 3",
   "language": "python",
   "name": "python3"
  },
  "language_info": {
   "codemirror_mode": {
    "name": "ipython",
    "version": 3
   },
   "file_extension": ".py",
   "mimetype": "text/x-python",
   "name": "python",
   "nbconvert_exporter": "python",
   "pygments_lexer": "ipython3",
   "version": "3.9.4"
  }
 },
 "nbformat": 4,
 "nbformat_minor": 5
}
