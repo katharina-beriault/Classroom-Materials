{
 "cells": [
  {
   "cell_type": "markdown",
   "metadata": {},
   "source": [
    "### Hypothesis Testing"
   ]
  },
  {
   "cell_type": "markdown",
   "metadata": {},
   "source": [
    "Hypothesis testing is a way to test the results of an experiment and see if you have meaningful results.\n",
    "\n",
    "* **Null hypothesis:** Denoted with H0, a null hypothesis is an **assumption that the population average is identical to a specific value**. The typical notation is μ = μ0, where μ refers to the population mean and μ0 refers to the hypothesized value.\n",
    "<br><br>\n",
    "* **Alternate hypothesis:** An alternative hypothesis is the opposite of the null hypothesis. We compare this hypothesis with the null hypothesis to decide whether or not we reject the null hypothesis. We denote the alternative hypothesis with H1 or Ha.\n",
    "<br><br>\n",
    "* **Significance Level:** Indicates whether we are confident enough to reject the null hypothesis.\n",
    "<br><br>\n",
    "* **Test Statistic:** Once we determine the type of hypothesis test and that our assumptions have been met, we use our data to decide whether to reject or not reject the null hypothesis. (z-test, t-test)\n",
    "<br><br>\n",
    "* **p-value:** is a measure used to help us reject or not the null hypothesis\n"
   ]
  },
  {
   "cell_type": "markdown",
   "metadata": {},
   "source": [
    "**Academic Example:**\n",
    "   \n",
    "Boys of a certain age are known to have a mean weight of 85 pounds. A complaint is made that the boys living in a municipal children's home are underfed. As one bit of evidence, 25 boys (of the same age) are weighed and found to have a mean weight of 80.94 pounds. It is known that the population standard deviation is 11.6 pounds. Based on the available data, what should be concluded concerning the complaint? \n",
    " \n",
    " \n",
    "How to reason about the problem:\n",
    "\n",
    "It is assumed that the population mean weight is 85, but we do not have the complete data from the population. Otherwise we would have calculated the actual mean directly. However we only have sample data from 25 subjects. So based on this sample data we will try to prove or disprove our assumption, using statistical test.\n",
    "\n",
    "**Step 1:** Define the null hypothesis - This is our assumption about the population. It is defined by H0 and in this case H0: μ = 85;\n",
    "\n",
    "**Step 2:** Define the alternative hypothesis - This means, what if our assumption is not true. It is defined by Ha and in this case Ha: μ < 85. \n",
    "\n",
    "**Step 3:** Determine if it is a one-tailed or a two-tailed test. Two-tailed is when the mean tested (alternative hypothesis) can be > or < then the mean of the population. In this case we are checking if the mean of the weight of the boys in the home is smaller then the mean of the population of boys, so it's a one-tailed test.\n",
    "\n",
    "**Step 4:** Decide a test statistics based on the information available. Assuming data is normally distributed and number of observations are less and population variance is known (since population standard deviation is provided), we will use a z-test. This test is based on a \"z-distribution\" which is a normal distribution. If the population variance was not known or the testing sample is less then 30, we use a t-test. T test is based on students t distribution which is very similar to a standard normal distribution except that it is much flatter.\n",
    "\n",
    "<img src=https://education-team-2020.s3-eu-west-1.amazonaws.com/data-analytics/7.03/7.03-t_distribution.png width=\"500\">\n",
    "\n",
    "\n",
    "**Step 5:** Level of significance: This defines the rejection region/critical region, it's the probability of making the wrong decision when the null hypothesis is true. Usually it is 0.05. It is defined by greek letter 'alpha'. \n",
    "\n",
    "**Step 6:** Calculate the test statistic based on the given information.\n",
    "\n",
    "**Step 7:** Check the table.\n",
    "<br> For z-test you have fixed values according to Confidence Level.\n",
    "<br> For t-test you have to calculate according to the degrees of freedom (df), which is the *sample_size - 1*.\n",
    "\n",
    "**Step 8:** Make conclusions:\n",
    "* If the test statistic falls in the critical region, then we reject the Null Hypothesis\n",
    "* If the test statistic falls in the region between the critical region, then we fail to reject the Null Hypothesis."
   ]
  },
  {
   "cell_type": "code",
   "execution_count": 12,
   "metadata": {},
   "outputs": [
    {
     "data": {
      "text/plain": [
       "-1.750000000000001"
      ]
     },
     "execution_count": 12,
     "metadata": {},
     "output_type": "execute_result"
    }
   ],
   "source": [
    "import math\n",
    "\n",
    "sample_mean = 80.94 # sample of boys from the home\n",
    "pop_mean = 85\n",
    "pop_std = 11.6\n",
    "n = 25\n",
    "\n",
    "statistic = (sample_mean - pop_mean)/(pop_std/math.sqrt(n))\n",
    "statistic\n",
    "# Spoiler: we reject the null hypothesis. \n",
    "# We can say with 95% of confidence that we have enough evidence to discard the null hypothesis.\n",
    "# The average weight of the boys in the home is less then 85.\n",
    "# Comparing the means (80.94 and 85), we can say they are underfed."
   ]
  },
  {
   "cell_type": "markdown",
   "metadata": {},
   "source": [
    "### P_Value\n",
    "\n",
    "**Academic Example:** \n",
    "\n",
    "A psychologist was interested in exploring whether or not male and female college students have different driving behaviors. There were a number of ways that she could quantify driving behaviors. She opted to focus on the fastest speed ever driven by an individual. Therefore, the particular statistical question she framed was as follows:\n",
    "\n",
    "* Is the mean fastest speed driven by male college students different than the mean fastest speed driven by female college students?\n",
    "* She conducted a survey of a random n = 34 male college students and a random m = 29 female college students. Here is a descriptive summary of the results of her survey:\n"
   ]
  },
  {
   "cell_type": "code",
   "execution_count": 4,
   "metadata": {},
   "outputs": [],
   "source": [
    "# Males\n",
    "m_samples = 34\n",
    "m_sample_mean = 105.5\n",
    "m_sample_std = 20.1\n",
    "\n",
    "# Females\n",
    "f_samples = 29\n",
    "f_sample_mean = 90.0\n",
    "f_sample_std = 12.2"
   ]
  },
  {
   "cell_type": "code",
   "execution_count": 5,
   "metadata": {},
   "outputs": [],
   "source": [
    "from scipy.stats import ttest_ind, norm\n",
    "\n",
    "# create the samples\n",
    "males = norm.rvs(loc=m_sample_mean, scale=m_sample_std, size=m_samples)\n",
    "females = norm.rvs(loc=f_sample_mean, scale=f_sample_std, size=f_samples)"
   ]
  },
  {
   "cell_type": "code",
   "execution_count": 6,
   "metadata": {},
   "outputs": [
    {
     "data": {
      "text/plain": [
       "array([102.21296284, 119.69124994, 100.09425561, 128.90404039,\n",
       "        95.42643763, 105.18426745,  76.6183121 , 124.02159315,\n",
       "       114.45196132, 130.38464175, 104.87760434,  96.79083634,\n",
       "        96.90349971, 123.96567382, 122.60474256,  75.33490284,\n",
       "       114.81980128,  83.87905974,  49.26615422, 112.34655357,\n",
       "       125.67539659,  85.9088677 , 105.95726443, 112.74461198,\n",
       "        85.44284505, 126.88348964,  82.29865526,  80.59286187,\n",
       "        96.20560345,  94.42562453, 125.46469407,  87.61828344,\n",
       "       135.96343472, 138.91478614])"
      ]
     },
     "execution_count": 6,
     "metadata": {},
     "output_type": "execute_result"
    }
   ],
   "source": [
    "males"
   ]
  },
  {
   "cell_type": "code",
   "execution_count": 7,
   "metadata": {},
   "outputs": [
    {
     "data": {
      "text/plain": [
       "array([ 98.21238723,  83.94391936,  93.53224009,  96.10336184,\n",
       "        74.14651259,  74.54241319,  80.43000964,  72.91687125,\n",
       "       107.73025472,  87.95389563,  96.01842212,  74.48863161,\n",
       "        91.03561676,  98.57857566,  95.78016482,  96.21750321,\n",
       "        82.25753982,  50.87001799,  85.17564312,  91.62610393,\n",
       "        80.90108091,  98.14229428, 104.49251582,  75.31715242,\n",
       "        88.91338988,  95.20656221,  99.11571874,  98.95894577,\n",
       "        86.47918401])"
      ]
     },
     "execution_count": 7,
     "metadata": {},
     "output_type": "execute_result"
    }
   ],
   "source": [
    "females"
   ]
  },
  {
   "cell_type": "code",
   "execution_count": 8,
   "metadata": {},
   "outputs": [
    {
     "data": {
      "text/plain": [
       "Ttest_indResult(statistic=3.7916586478857672, pvalue=0.00034559169347544104)"
      ]
     },
     "execution_count": 8,
     "metadata": {},
     "output_type": "execute_result"
    }
   ],
   "source": [
    "ttest_ind(males, females)"
   ]
  },
  {
   "cell_type": "code",
   "execution_count": null,
   "metadata": {},
   "outputs": [],
   "source": [
    "# We reject the null hypothesis. \n",
    "# We can say with 95% of confidence that we have enough evidence to discard the null hypothesis.\n",
    "# The average speed between male and females are not the same.\n",
    "# Comparing the means, we can say males drive faster."
   ]
  }
 ],
 "metadata": {
  "kernelspec": {
   "display_name": "Python 3",
   "language": "python",
   "name": "python3"
  },
  "language_info": {
   "codemirror_mode": {
    "name": "ipython",
    "version": 3
   },
   "file_extension": ".py",
   "mimetype": "text/x-python",
   "name": "python",
   "nbconvert_exporter": "python",
   "pygments_lexer": "ipython3",
   "version": "3.8.2"
  }
 },
 "nbformat": 4,
 "nbformat_minor": 4
}
