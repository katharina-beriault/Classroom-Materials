{
 "cells": [
  {
   "cell_type": "markdown",
   "metadata": {},
   "source": [
    "## MultiClass Logistic Regression\n",
    "\n",
    "A logistic regression where the target variable have more than 2 possible outcomes :)\n",
    "\n",
    "The main difference is that it uses Softmax function instead of the Sigmoid function.\n",
    "\n",
    "Read all about it [here](https://dataaspirant.com/difference-between-softmax-function-and-sigmoid-function/)."
   ]
  },
  {
   "cell_type": "markdown",
   "metadata": {},
   "source": [
    "### Business Case\n",
    "We'll be using the bank database to predict the status of each loan, taking into account all the transactions"
   ]
  },
  {
   "cell_type": "code",
   "execution_count": 1,
   "metadata": {},
   "outputs": [
    {
     "name": "stdout",
     "output_type": "stream",
     "text": [
      "········\n"
     ]
    }
   ],
   "source": [
    "import pymysql\n",
    "from sqlalchemy import create_engine\n",
    "import pandas as pd\n",
    "import numpy as np\n",
    "import getpass\n",
    "import matplotlib.pyplot as plt\n",
    "import seaborn as sns\n",
    "from sklearn.model_selection import train_test_split\n",
    "from sklearn.linear_model import LogisticRegression\n",
    "from sklearn.metrics import confusion_matrix\n",
    "password = getpass.getpass()"
   ]
  },
  {
   "cell_type": "markdown",
   "metadata": {},
   "source": [
    "### Get the data"
   ]
  },
  {
   "cell_type": "code",
   "execution_count": 2,
   "metadata": {},
   "outputs": [
    {
     "data": {
      "text/html": [
       "<div>\n",
       "<style scoped>\n",
       "    .dataframe tbody tr th:only-of-type {\n",
       "        vertical-align: middle;\n",
       "    }\n",
       "\n",
       "    .dataframe tbody tr th {\n",
       "        vertical-align: top;\n",
       "    }\n",
       "\n",
       "    .dataframe thead th {\n",
       "        text-align: right;\n",
       "    }\n",
       "</style>\n",
       "<table border=\"1\" class=\"dataframe\">\n",
       "  <thead>\n",
       "    <tr style=\"text-align: right;\">\n",
       "      <th></th>\n",
       "      <th>type</th>\n",
       "      <th>operation</th>\n",
       "      <th>t_amount</th>\n",
       "      <th>balance</th>\n",
       "      <th>k_symbol</th>\n",
       "      <th>l_amount</th>\n",
       "      <th>duration</th>\n",
       "      <th>payments</th>\n",
       "      <th>status</th>\n",
       "    </tr>\n",
       "  </thead>\n",
       "  <tbody>\n",
       "    <tr>\n",
       "      <th>0</th>\n",
       "      <td>PRIJEM</td>\n",
       "      <td>PREVOD Z UCTU</td>\n",
       "      <td>44749.0</td>\n",
       "      <td>45549.0</td>\n",
       "      <td></td>\n",
       "      <td>79608</td>\n",
       "      <td>24</td>\n",
       "      <td>3317.0</td>\n",
       "      <td>A</td>\n",
       "    </tr>\n",
       "    <tr>\n",
       "      <th>1</th>\n",
       "      <td>PRIJEM</td>\n",
       "      <td>VKLAD</td>\n",
       "      <td>1000.0</td>\n",
       "      <td>1000.0</td>\n",
       "      <td></td>\n",
       "      <td>52788</td>\n",
       "      <td>12</td>\n",
       "      <td>4399.0</td>\n",
       "      <td>A</td>\n",
       "    </tr>\n",
       "    <tr>\n",
       "      <th>2</th>\n",
       "      <td>PRIJEM</td>\n",
       "      <td>VKLAD</td>\n",
       "      <td>1100.0</td>\n",
       "      <td>1100.0</td>\n",
       "      <td></td>\n",
       "      <td>21924</td>\n",
       "      <td>36</td>\n",
       "      <td>609.0</td>\n",
       "      <td>A</td>\n",
       "    </tr>\n",
       "    <tr>\n",
       "      <th>3</th>\n",
       "      <td>PRIJEM</td>\n",
       "      <td>VKLAD</td>\n",
       "      <td>700.0</td>\n",
       "      <td>700.0</td>\n",
       "      <td></td>\n",
       "      <td>23052</td>\n",
       "      <td>12</td>\n",
       "      <td>1921.0</td>\n",
       "      <td>A</td>\n",
       "    </tr>\n",
       "    <tr>\n",
       "      <th>4</th>\n",
       "      <td>PRIJEM</td>\n",
       "      <td>VKLAD</td>\n",
       "      <td>900.0</td>\n",
       "      <td>900.0</td>\n",
       "      <td></td>\n",
       "      <td>41904</td>\n",
       "      <td>12</td>\n",
       "      <td>3492.0</td>\n",
       "      <td>A</td>\n",
       "    </tr>\n",
       "    <tr>\n",
       "      <th>...</th>\n",
       "      <td>...</td>\n",
       "      <td>...</td>\n",
       "      <td>...</td>\n",
       "      <td>...</td>\n",
       "      <td>...</td>\n",
       "      <td>...</td>\n",
       "      <td>...</td>\n",
       "      <td>...</td>\n",
       "      <td>...</td>\n",
       "    </tr>\n",
       "    <tr>\n",
       "      <th>156076</th>\n",
       "      <td>PRIJEM</td>\n",
       "      <td></td>\n",
       "      <td>67.9</td>\n",
       "      <td>17036.9</td>\n",
       "      <td>UROK</td>\n",
       "      <td>268320</td>\n",
       "      <td>60</td>\n",
       "      <td>4472.0</td>\n",
       "      <td>C</td>\n",
       "    </tr>\n",
       "    <tr>\n",
       "      <th>156077</th>\n",
       "      <td>PRIJEM</td>\n",
       "      <td></td>\n",
       "      <td>187.2</td>\n",
       "      <td>42249.6</td>\n",
       "      <td>UROK</td>\n",
       "      <td>437460</td>\n",
       "      <td>60</td>\n",
       "      <td>7291.0</td>\n",
       "      <td>C</td>\n",
       "    </tr>\n",
       "    <tr>\n",
       "      <th>156078</th>\n",
       "      <td>PRIJEM</td>\n",
       "      <td></td>\n",
       "      <td>132.0</td>\n",
       "      <td>31046.4</td>\n",
       "      <td>UROK</td>\n",
       "      <td>272520</td>\n",
       "      <td>60</td>\n",
       "      <td>4542.0</td>\n",
       "      <td>C</td>\n",
       "    </tr>\n",
       "    <tr>\n",
       "      <th>156079</th>\n",
       "      <td>PRIJEM</td>\n",
       "      <td></td>\n",
       "      <td>271.6</td>\n",
       "      <td>58694.2</td>\n",
       "      <td>UROK</td>\n",
       "      <td>380160</td>\n",
       "      <td>60</td>\n",
       "      <td>6336.0</td>\n",
       "      <td>C</td>\n",
       "    </tr>\n",
       "    <tr>\n",
       "      <th>156080</th>\n",
       "      <td>PRIJEM</td>\n",
       "      <td></td>\n",
       "      <td>190.7</td>\n",
       "      <td>45255.1</td>\n",
       "      <td>UROK</td>\n",
       "      <td>504000</td>\n",
       "      <td>60</td>\n",
       "      <td>8400.0</td>\n",
       "      <td>C</td>\n",
       "    </tr>\n",
       "  </tbody>\n",
       "</table>\n",
       "<p>156081 rows × 9 columns</p>\n",
       "</div>"
      ],
      "text/plain": [
       "          type      operation  t_amount  balance k_symbol  l_amount  duration  \\\n",
       "0       PRIJEM  PREVOD Z UCTU   44749.0  45549.0              79608        24   \n",
       "1       PRIJEM          VKLAD    1000.0   1000.0              52788        12   \n",
       "2       PRIJEM          VKLAD    1100.0   1100.0              21924        36   \n",
       "3       PRIJEM          VKLAD     700.0    700.0              23052        12   \n",
       "4       PRIJEM          VKLAD     900.0    900.0              41904        12   \n",
       "...        ...            ...       ...      ...      ...       ...       ...   \n",
       "156076  PRIJEM                     67.9  17036.9     UROK    268320        60   \n",
       "156077  PRIJEM                    187.2  42249.6     UROK    437460        60   \n",
       "156078  PRIJEM                    132.0  31046.4     UROK    272520        60   \n",
       "156079  PRIJEM                    271.6  58694.2     UROK    380160        60   \n",
       "156080  PRIJEM                    190.7  45255.1     UROK    504000        60   \n",
       "\n",
       "        payments status  \n",
       "0         3317.0      A  \n",
       "1         4399.0      A  \n",
       "2          609.0      A  \n",
       "3         1921.0      A  \n",
       "4         3492.0      A  \n",
       "...          ...    ...  \n",
       "156076    4472.0      C  \n",
       "156077    7291.0      C  \n",
       "156078    4542.0      C  \n",
       "156079    6336.0      C  \n",
       "156080    8400.0      C  \n",
       "\n",
       "[156081 rows x 9 columns]"
      ]
     },
     "execution_count": 2,
     "metadata": {},
     "output_type": "execute_result"
    }
   ],
   "source": [
    "connection_string = 'mysql+pymysql://root:' + password + '@localhost/bank'\n",
    "engine = create_engine(connection_string)\n",
    "query = '''\n",
    "        select t.type, t.operation, t.amount as t_amount, t.balance, t.k_symbol, l.amount as l_amount, l.duration, l.payments, l.status\n",
    "        from trans t\n",
    "        join loan l\n",
    "        on t.account_id = l.account_id;\n",
    "        '''\n",
    "\n",
    "data = pd.read_sql_query(query, engine)\n",
    "data"
   ]
  },
  {
   "cell_type": "code",
   "execution_count": 3,
   "metadata": {},
   "outputs": [
    {
     "data": {
      "text/html": [
       "<div>\n",
       "<style scoped>\n",
       "    .dataframe tbody tr th:only-of-type {\n",
       "        vertical-align: middle;\n",
       "    }\n",
       "\n",
       "    .dataframe tbody tr th {\n",
       "        vertical-align: top;\n",
       "    }\n",
       "\n",
       "    .dataframe thead th {\n",
       "        text-align: right;\n",
       "    }\n",
       "</style>\n",
       "<table border=\"1\" class=\"dataframe\">\n",
       "  <thead>\n",
       "    <tr style=\"text-align: right;\">\n",
       "      <th></th>\n",
       "      <th>loan_id</th>\n",
       "      <th>account_id</th>\n",
       "      <th>date</th>\n",
       "      <th>amount</th>\n",
       "      <th>duration</th>\n",
       "      <th>payments</th>\n",
       "      <th>status</th>\n",
       "    </tr>\n",
       "  </thead>\n",
       "  <tbody>\n",
       "    <tr>\n",
       "      <th>0</th>\n",
       "      <td>5314</td>\n",
       "      <td>1787</td>\n",
       "      <td>930705</td>\n",
       "      <td>96396</td>\n",
       "      <td>12</td>\n",
       "      <td>8033.0</td>\n",
       "      <td>B</td>\n",
       "    </tr>\n",
       "    <tr>\n",
       "      <th>1</th>\n",
       "      <td>5316</td>\n",
       "      <td>1801</td>\n",
       "      <td>930711</td>\n",
       "      <td>165960</td>\n",
       "      <td>36</td>\n",
       "      <td>4610.0</td>\n",
       "      <td>A</td>\n",
       "    </tr>\n",
       "    <tr>\n",
       "      <th>2</th>\n",
       "      <td>6863</td>\n",
       "      <td>9188</td>\n",
       "      <td>930728</td>\n",
       "      <td>127080</td>\n",
       "      <td>60</td>\n",
       "      <td>2118.0</td>\n",
       "      <td>A</td>\n",
       "    </tr>\n",
       "    <tr>\n",
       "      <th>3</th>\n",
       "      <td>5325</td>\n",
       "      <td>1843</td>\n",
       "      <td>930803</td>\n",
       "      <td>105804</td>\n",
       "      <td>36</td>\n",
       "      <td>2939.0</td>\n",
       "      <td>A</td>\n",
       "    </tr>\n",
       "    <tr>\n",
       "      <th>4</th>\n",
       "      <td>7240</td>\n",
       "      <td>11013</td>\n",
       "      <td>930906</td>\n",
       "      <td>274740</td>\n",
       "      <td>60</td>\n",
       "      <td>4579.0</td>\n",
       "      <td>A</td>\n",
       "    </tr>\n",
       "    <tr>\n",
       "      <th>...</th>\n",
       "      <td>...</td>\n",
       "      <td>...</td>\n",
       "      <td>...</td>\n",
       "      <td>...</td>\n",
       "      <td>...</td>\n",
       "      <td>...</td>\n",
       "      <td>...</td>\n",
       "    </tr>\n",
       "    <tr>\n",
       "      <th>677</th>\n",
       "      <td>4989</td>\n",
       "      <td>105</td>\n",
       "      <td>981205</td>\n",
       "      <td>352704</td>\n",
       "      <td>48</td>\n",
       "      <td>7348.0</td>\n",
       "      <td>C</td>\n",
       "    </tr>\n",
       "    <tr>\n",
       "      <th>678</th>\n",
       "      <td>5221</td>\n",
       "      <td>1284</td>\n",
       "      <td>981205</td>\n",
       "      <td>52512</td>\n",
       "      <td>12</td>\n",
       "      <td>4376.0</td>\n",
       "      <td>C</td>\n",
       "    </tr>\n",
       "    <tr>\n",
       "      <th>679</th>\n",
       "      <td>6402</td>\n",
       "      <td>6922</td>\n",
       "      <td>981206</td>\n",
       "      <td>139488</td>\n",
       "      <td>24</td>\n",
       "      <td>5812.0</td>\n",
       "      <td>C</td>\n",
       "    </tr>\n",
       "    <tr>\n",
       "      <th>680</th>\n",
       "      <td>5346</td>\n",
       "      <td>1928</td>\n",
       "      <td>981206</td>\n",
       "      <td>55632</td>\n",
       "      <td>24</td>\n",
       "      <td>2318.0</td>\n",
       "      <td>C</td>\n",
       "    </tr>\n",
       "    <tr>\n",
       "      <th>681</th>\n",
       "      <td>6748</td>\n",
       "      <td>8645</td>\n",
       "      <td>981208</td>\n",
       "      <td>240900</td>\n",
       "      <td>60</td>\n",
       "      <td>4015.0</td>\n",
       "      <td>C</td>\n",
       "    </tr>\n",
       "  </tbody>\n",
       "</table>\n",
       "<p>682 rows × 7 columns</p>\n",
       "</div>"
      ],
      "text/plain": [
       "     loan_id  account_id    date  amount  duration  payments status\n",
       "0       5314        1787  930705   96396        12    8033.0      B\n",
       "1       5316        1801  930711  165960        36    4610.0      A\n",
       "2       6863        9188  930728  127080        60    2118.0      A\n",
       "3       5325        1843  930803  105804        36    2939.0      A\n",
       "4       7240       11013  930906  274740        60    4579.0      A\n",
       "..       ...         ...     ...     ...       ...       ...    ...\n",
       "677     4989         105  981205  352704        48    7348.0      C\n",
       "678     5221        1284  981205   52512        12    4376.0      C\n",
       "679     6402        6922  981206  139488        24    5812.0      C\n",
       "680     5346        1928  981206   55632        24    2318.0      C\n",
       "681     6748        8645  981208  240900        60    4015.0      C\n",
       "\n",
       "[682 rows x 7 columns]"
      ]
     },
     "execution_count": 3,
     "metadata": {},
     "output_type": "execute_result"
    }
   ],
   "source": [
    "pd.read_sql_table('loan', engine) # if you want the whole table"
   ]
  },
  {
   "cell_type": "code",
   "execution_count": 4,
   "metadata": {},
   "outputs": [
    {
     "data": {
      "text/html": [
       "<div>\n",
       "<style scoped>\n",
       "    .dataframe tbody tr th:only-of-type {\n",
       "        vertical-align: middle;\n",
       "    }\n",
       "\n",
       "    .dataframe tbody tr th {\n",
       "        vertical-align: top;\n",
       "    }\n",
       "\n",
       "    .dataframe thead th {\n",
       "        text-align: right;\n",
       "    }\n",
       "</style>\n",
       "<table border=\"1\" class=\"dataframe\">\n",
       "  <thead>\n",
       "    <tr style=\"text-align: right;\">\n",
       "      <th></th>\n",
       "      <th>Active_id</th>\n",
       "      <th>Activity_year</th>\n",
       "      <th>Activity_month</th>\n",
       "    </tr>\n",
       "  </thead>\n",
       "  <tbody>\n",
       "    <tr>\n",
       "      <th>0</th>\n",
       "      <td>9</td>\n",
       "      <td>1993</td>\n",
       "      <td>01</td>\n",
       "    </tr>\n",
       "    <tr>\n",
       "      <th>1</th>\n",
       "      <td>163</td>\n",
       "      <td>1993</td>\n",
       "      <td>01</td>\n",
       "    </tr>\n",
       "    <tr>\n",
       "      <th>2</th>\n",
       "      <td>192</td>\n",
       "      <td>1993</td>\n",
       "      <td>01</td>\n",
       "    </tr>\n",
       "    <tr>\n",
       "      <th>3</th>\n",
       "      <td>212</td>\n",
       "      <td>1993</td>\n",
       "      <td>01</td>\n",
       "    </tr>\n",
       "    <tr>\n",
       "      <th>4</th>\n",
       "      <td>280</td>\n",
       "      <td>1993</td>\n",
       "      <td>01</td>\n",
       "    </tr>\n",
       "    <tr>\n",
       "      <th>...</th>\n",
       "      <td>...</td>\n",
       "      <td>...</td>\n",
       "      <td>...</td>\n",
       "    </tr>\n",
       "    <tr>\n",
       "      <th>183359</th>\n",
       "      <td>11333</td>\n",
       "      <td>1998</td>\n",
       "      <td>12</td>\n",
       "    </tr>\n",
       "    <tr>\n",
       "      <th>183360</th>\n",
       "      <td>11349</td>\n",
       "      <td>1998</td>\n",
       "      <td>12</td>\n",
       "    </tr>\n",
       "    <tr>\n",
       "      <th>183361</th>\n",
       "      <td>11359</td>\n",
       "      <td>1998</td>\n",
       "      <td>12</td>\n",
       "    </tr>\n",
       "    <tr>\n",
       "      <th>183362</th>\n",
       "      <td>11362</td>\n",
       "      <td>1998</td>\n",
       "      <td>12</td>\n",
       "    </tr>\n",
       "    <tr>\n",
       "      <th>183363</th>\n",
       "      <td>11382</td>\n",
       "      <td>1998</td>\n",
       "      <td>12</td>\n",
       "    </tr>\n",
       "  </tbody>\n",
       "</table>\n",
       "<p>183364 rows × 3 columns</p>\n",
       "</div>"
      ],
      "text/plain": [
       "        Active_id Activity_year Activity_month\n",
       "0               9          1993             01\n",
       "1             163          1993             01\n",
       "2             192          1993             01\n",
       "3             212          1993             01\n",
       "4             280          1993             01\n",
       "...           ...           ...            ...\n",
       "183359      11333          1998             12\n",
       "183360      11349          1998             12\n",
       "183361      11359          1998             12\n",
       "183362      11362          1998             12\n",
       "183363      11382          1998             12\n",
       "\n",
       "[183364 rows x 3 columns]"
      ]
     },
     "execution_count": 4,
     "metadata": {},
     "output_type": "execute_result"
    }
   ],
   "source": [
    "pd.read_sql_table('distinct_users', engine) # it also works on views"
   ]
  },
  {
   "cell_type": "markdown",
   "metadata": {},
   "source": [
    "### Check the data"
   ]
  },
  {
   "cell_type": "code",
   "execution_count": 5,
   "metadata": {
    "scrolled": true
   },
   "outputs": [
    {
     "data": {
      "text/plain": [
       "C    72288\n",
       "A    64599\n",
       "B     9765\n",
       "D     9429\n",
       "Name: status, dtype: int64"
      ]
     },
     "execution_count": 5,
     "metadata": {},
     "output_type": "execute_result"
    }
   ],
   "source": [
    "data['status'].value_counts()"
   ]
  },
  {
   "cell_type": "code",
   "execution_count": 6,
   "metadata": {},
   "outputs": [
    {
     "data": {
      "text/plain": [
       "(156081, 9)"
      ]
     },
     "execution_count": 6,
     "metadata": {},
     "output_type": "execute_result"
    }
   ],
   "source": [
    "data.shape"
   ]
  },
  {
   "cell_type": "code",
   "execution_count": 7,
   "metadata": {},
   "outputs": [
    {
     "data": {
      "text/plain": [
       "type          object\n",
       "operation     object\n",
       "t_amount     float64\n",
       "balance      float64\n",
       "k_symbol      object\n",
       "l_amount       int64\n",
       "duration       int64\n",
       "payments     float64\n",
       "status        object\n",
       "dtype: object"
      ]
     },
     "execution_count": 7,
     "metadata": {},
     "output_type": "execute_result"
    }
   ],
   "source": [
    "data.dtypes"
   ]
  },
  {
   "cell_type": "code",
   "execution_count": 8,
   "metadata": {},
   "outputs": [
    {
     "data": {
      "text/html": [
       "<div>\n",
       "<style scoped>\n",
       "    .dataframe tbody tr th:only-of-type {\n",
       "        vertical-align: middle;\n",
       "    }\n",
       "\n",
       "    .dataframe tbody tr th {\n",
       "        vertical-align: top;\n",
       "    }\n",
       "\n",
       "    .dataframe thead th {\n",
       "        text-align: right;\n",
       "    }\n",
       "</style>\n",
       "<table border=\"1\" class=\"dataframe\">\n",
       "  <thead>\n",
       "    <tr style=\"text-align: right;\">\n",
       "      <th></th>\n",
       "      <th>t_amount</th>\n",
       "      <th>balance</th>\n",
       "      <th>l_amount</th>\n",
       "      <th>duration</th>\n",
       "      <th>payments</th>\n",
       "    </tr>\n",
       "  </thead>\n",
       "  <tbody>\n",
       "    <tr>\n",
       "      <th>count</th>\n",
       "      <td>156081.000000</td>\n",
       "      <td>156081.000000</td>\n",
       "      <td>156081.000000</td>\n",
       "      <td>156081.000000</td>\n",
       "      <td>156081.000000</td>\n",
       "    </tr>\n",
       "    <tr>\n",
       "      <th>mean</th>\n",
       "      <td>7795.357503</td>\n",
       "      <td>45353.630156</td>\n",
       "      <td>146822.230995</td>\n",
       "      <td>35.598209</td>\n",
       "      <td>4189.309205</td>\n",
       "    </tr>\n",
       "    <tr>\n",
       "      <th>std</th>\n",
       "      <td>11707.393031</td>\n",
       "      <td>25028.806295</td>\n",
       "      <td>109974.568837</td>\n",
       "      <td>17.189519</td>\n",
       "      <td>2198.565442</td>\n",
       "    </tr>\n",
       "    <tr>\n",
       "      <th>min</th>\n",
       "      <td>0.000000</td>\n",
       "      <td>-19310.000000</td>\n",
       "      <td>4980.000000</td>\n",
       "      <td>12.000000</td>\n",
       "      <td>304.000000</td>\n",
       "    </tr>\n",
       "    <tr>\n",
       "      <th>25%</th>\n",
       "      <td>144.100000</td>\n",
       "      <td>27291.700000</td>\n",
       "      <td>65184.000000</td>\n",
       "      <td>24.000000</td>\n",
       "      <td>2482.000000</td>\n",
       "    </tr>\n",
       "    <tr>\n",
       "      <th>50%</th>\n",
       "      <td>2800.000000</td>\n",
       "      <td>40649.500000</td>\n",
       "      <td>111384.000000</td>\n",
       "      <td>36.000000</td>\n",
       "      <td>3900.000000</td>\n",
       "    </tr>\n",
       "    <tr>\n",
       "      <th>75%</th>\n",
       "      <td>9902.000000</td>\n",
       "      <td>59162.000000</td>\n",
       "      <td>203940.000000</td>\n",
       "      <td>48.000000</td>\n",
       "      <td>5900.000000</td>\n",
       "    </tr>\n",
       "    <tr>\n",
       "      <th>max</th>\n",
       "      <td>87300.000000</td>\n",
       "      <td>209637.000000</td>\n",
       "      <td>590820.000000</td>\n",
       "      <td>60.000000</td>\n",
       "      <td>9910.000000</td>\n",
       "    </tr>\n",
       "  </tbody>\n",
       "</table>\n",
       "</div>"
      ],
      "text/plain": [
       "            t_amount        balance       l_amount       duration  \\\n",
       "count  156081.000000  156081.000000  156081.000000  156081.000000   \n",
       "mean     7795.357503   45353.630156  146822.230995      35.598209   \n",
       "std     11707.393031   25028.806295  109974.568837      17.189519   \n",
       "min         0.000000  -19310.000000    4980.000000      12.000000   \n",
       "25%       144.100000   27291.700000   65184.000000      24.000000   \n",
       "50%      2800.000000   40649.500000  111384.000000      36.000000   \n",
       "75%      9902.000000   59162.000000  203940.000000      48.000000   \n",
       "max     87300.000000  209637.000000  590820.000000      60.000000   \n",
       "\n",
       "            payments  \n",
       "count  156081.000000  \n",
       "mean     4189.309205  \n",
       "std      2198.565442  \n",
       "min       304.000000  \n",
       "25%      2482.000000  \n",
       "50%      3900.000000  \n",
       "75%      5900.000000  \n",
       "max      9910.000000  "
      ]
     },
     "execution_count": 8,
     "metadata": {},
     "output_type": "execute_result"
    }
   ],
   "source": [
    "data.describe()"
   ]
  },
  {
   "cell_type": "code",
   "execution_count": 9,
   "metadata": {},
   "outputs": [
    {
     "data": {
      "text/plain": [
       "type         0\n",
       "operation    0\n",
       "t_amount     0\n",
       "balance      0\n",
       "k_symbol     0\n",
       "l_amount     0\n",
       "duration     0\n",
       "payments     0\n",
       "status       0\n",
       "dtype: int64"
      ]
     },
     "execution_count": 9,
     "metadata": {},
     "output_type": "execute_result"
    }
   ],
   "source": [
    "data.isna().sum()"
   ]
  },
  {
   "cell_type": "markdown",
   "metadata": {},
   "source": [
    "### Clean the data"
   ]
  },
  {
   "cell_type": "code",
   "execution_count": 10,
   "metadata": {},
   "outputs": [
    {
     "data": {
      "text/html": [
       "<div>\n",
       "<style scoped>\n",
       "    .dataframe tbody tr th:only-of-type {\n",
       "        vertical-align: middle;\n",
       "    }\n",
       "\n",
       "    .dataframe tbody tr th {\n",
       "        vertical-align: top;\n",
       "    }\n",
       "\n",
       "    .dataframe thead th {\n",
       "        text-align: right;\n",
       "    }\n",
       "</style>\n",
       "<table border=\"1\" class=\"dataframe\">\n",
       "  <thead>\n",
       "    <tr style=\"text-align: right;\">\n",
       "      <th></th>\n",
       "      <th>type</th>\n",
       "      <th>operation</th>\n",
       "      <th>t_amount</th>\n",
       "      <th>balance</th>\n",
       "      <th>k_symbol</th>\n",
       "      <th>l_amount</th>\n",
       "      <th>duration</th>\n",
       "      <th>payments</th>\n",
       "      <th>status</th>\n",
       "    </tr>\n",
       "  </thead>\n",
       "  <tbody>\n",
       "    <tr>\n",
       "      <th>0</th>\n",
       "      <td>PRIJEM</td>\n",
       "      <td>PREVOD Z UCTU</td>\n",
       "      <td>44749.0</td>\n",
       "      <td>45549.0</td>\n",
       "      <td></td>\n",
       "      <td>79608</td>\n",
       "      <td>24</td>\n",
       "      <td>3317.0</td>\n",
       "      <td>A</td>\n",
       "    </tr>\n",
       "    <tr>\n",
       "      <th>1</th>\n",
       "      <td>PRIJEM</td>\n",
       "      <td>VKLAD</td>\n",
       "      <td>1000.0</td>\n",
       "      <td>1000.0</td>\n",
       "      <td></td>\n",
       "      <td>52788</td>\n",
       "      <td>12</td>\n",
       "      <td>4399.0</td>\n",
       "      <td>A</td>\n",
       "    </tr>\n",
       "    <tr>\n",
       "      <th>2</th>\n",
       "      <td>PRIJEM</td>\n",
       "      <td>VKLAD</td>\n",
       "      <td>1100.0</td>\n",
       "      <td>1100.0</td>\n",
       "      <td></td>\n",
       "      <td>21924</td>\n",
       "      <td>36</td>\n",
       "      <td>609.0</td>\n",
       "      <td>A</td>\n",
       "    </tr>\n",
       "    <tr>\n",
       "      <th>3</th>\n",
       "      <td>PRIJEM</td>\n",
       "      <td>VKLAD</td>\n",
       "      <td>700.0</td>\n",
       "      <td>700.0</td>\n",
       "      <td></td>\n",
       "      <td>23052</td>\n",
       "      <td>12</td>\n",
       "      <td>1921.0</td>\n",
       "      <td>A</td>\n",
       "    </tr>\n",
       "    <tr>\n",
       "      <th>4</th>\n",
       "      <td>PRIJEM</td>\n",
       "      <td>VKLAD</td>\n",
       "      <td>900.0</td>\n",
       "      <td>900.0</td>\n",
       "      <td></td>\n",
       "      <td>41904</td>\n",
       "      <td>12</td>\n",
       "      <td>3492.0</td>\n",
       "      <td>A</td>\n",
       "    </tr>\n",
       "    <tr>\n",
       "      <th>...</th>\n",
       "      <td>...</td>\n",
       "      <td>...</td>\n",
       "      <td>...</td>\n",
       "      <td>...</td>\n",
       "      <td>...</td>\n",
       "      <td>...</td>\n",
       "      <td>...</td>\n",
       "      <td>...</td>\n",
       "      <td>...</td>\n",
       "    </tr>\n",
       "    <tr>\n",
       "      <th>156076</th>\n",
       "      <td>PRIJEM</td>\n",
       "      <td></td>\n",
       "      <td>67.9</td>\n",
       "      <td>17036.9</td>\n",
       "      <td>UROK</td>\n",
       "      <td>268320</td>\n",
       "      <td>60</td>\n",
       "      <td>4472.0</td>\n",
       "      <td>C</td>\n",
       "    </tr>\n",
       "    <tr>\n",
       "      <th>156077</th>\n",
       "      <td>PRIJEM</td>\n",
       "      <td></td>\n",
       "      <td>187.2</td>\n",
       "      <td>42249.6</td>\n",
       "      <td>UROK</td>\n",
       "      <td>437460</td>\n",
       "      <td>60</td>\n",
       "      <td>7291.0</td>\n",
       "      <td>C</td>\n",
       "    </tr>\n",
       "    <tr>\n",
       "      <th>156078</th>\n",
       "      <td>PRIJEM</td>\n",
       "      <td></td>\n",
       "      <td>132.0</td>\n",
       "      <td>31046.4</td>\n",
       "      <td>UROK</td>\n",
       "      <td>272520</td>\n",
       "      <td>60</td>\n",
       "      <td>4542.0</td>\n",
       "      <td>C</td>\n",
       "    </tr>\n",
       "    <tr>\n",
       "      <th>156079</th>\n",
       "      <td>PRIJEM</td>\n",
       "      <td></td>\n",
       "      <td>271.6</td>\n",
       "      <td>58694.2</td>\n",
       "      <td>UROK</td>\n",
       "      <td>380160</td>\n",
       "      <td>60</td>\n",
       "      <td>6336.0</td>\n",
       "      <td>C</td>\n",
       "    </tr>\n",
       "    <tr>\n",
       "      <th>156080</th>\n",
       "      <td>PRIJEM</td>\n",
       "      <td></td>\n",
       "      <td>190.7</td>\n",
       "      <td>45255.1</td>\n",
       "      <td>UROK</td>\n",
       "      <td>504000</td>\n",
       "      <td>60</td>\n",
       "      <td>8400.0</td>\n",
       "      <td>C</td>\n",
       "    </tr>\n",
       "  </tbody>\n",
       "</table>\n",
       "<p>156081 rows × 9 columns</p>\n",
       "</div>"
      ],
      "text/plain": [
       "          type      operation  t_amount  balance k_symbol  l_amount  duration  \\\n",
       "0       PRIJEM  PREVOD Z UCTU   44749.0  45549.0              79608        24   \n",
       "1       PRIJEM          VKLAD    1000.0   1000.0              52788        12   \n",
       "2       PRIJEM          VKLAD    1100.0   1100.0              21924        36   \n",
       "3       PRIJEM          VKLAD     700.0    700.0              23052        12   \n",
       "4       PRIJEM          VKLAD     900.0    900.0              41904        12   \n",
       "...        ...            ...       ...      ...      ...       ...       ...   \n",
       "156076  PRIJEM                     67.9  17036.9     UROK    268320        60   \n",
       "156077  PRIJEM                    187.2  42249.6     UROK    437460        60   \n",
       "156078  PRIJEM                    132.0  31046.4     UROK    272520        60   \n",
       "156079  PRIJEM                    271.6  58694.2     UROK    380160        60   \n",
       "156080  PRIJEM                    190.7  45255.1     UROK    504000        60   \n",
       "\n",
       "        payments status  \n",
       "0         3317.0      A  \n",
       "1         4399.0      A  \n",
       "2          609.0      A  \n",
       "3         1921.0      A  \n",
       "4         3492.0      A  \n",
       "...          ...    ...  \n",
       "156076    4472.0      C  \n",
       "156077    7291.0      C  \n",
       "156078    4542.0      C  \n",
       "156079    6336.0      C  \n",
       "156080    8400.0      C  \n",
       "\n",
       "[156081 rows x 9 columns]"
      ]
     },
     "execution_count": 10,
     "metadata": {},
     "output_type": "execute_result"
    }
   ],
   "source": [
    "data = data[data['duration'].isna() == False] # dropna() is also a good option\n",
    "data"
   ]
  },
  {
   "cell_type": "code",
   "execution_count": 11,
   "metadata": {},
   "outputs": [],
   "source": [
    "data['duration'] = data['duration'].astype('object') # treating duration as categorical"
   ]
  },
  {
   "cell_type": "code",
   "execution_count": 12,
   "metadata": {},
   "outputs": [
    {
     "name": "stdout",
     "output_type": "stream",
     "text": [
      "VYDAJ     91428\n",
      "PRIJEM    59306\n",
      "VYBER      5347\n",
      "Name: type, dtype: int64 \n",
      "\n",
      "VYBER             70189\n",
      "                  31337\n",
      "PREVOD NA UCET    25796\n",
      "VKLAD             22633\n",
      "PREVOD Z UCTU      5336\n",
      "VYBER KARTOU        790\n",
      "Name: operation, dtype: int64 \n",
      "\n",
      "               73946\n",
      "UROK           31337\n",
      "SLUZBY         23592\n",
      "SIPO           10482\n",
      "UVER            7744\n",
      "                5979\n",
      "POJISTNE        2412\n",
      "SANKC. UROK      589\n",
      "Name: k_symbol, dtype: int64 \n",
      "\n",
      "24    34141\n",
      "12    32217\n",
      "60    32042\n",
      "48    29265\n",
      "36    28416\n",
      "Name: duration, dtype: int64 \n",
      "\n",
      "C    72288\n",
      "A    64599\n",
      "B     9765\n",
      "D     9429\n",
      "Name: status, dtype: int64 \n",
      "\n"
     ]
    }
   ],
   "source": [
    "for col in data.select_dtypes('object'):\n",
    "    print(data[col].value_counts(), '\\n')"
   ]
  },
  {
   "cell_type": "code",
   "execution_count": 13,
   "metadata": {},
   "outputs": [],
   "source": [
    "def cleanOperation(x):\n",
    "    if len(x) < 2:\n",
    "        return 'unknown'\n",
    "    else:\n",
    "        return x.lower()\n",
    "# or\n",
    "cleanOperation = lambda x: 'unknown' if len(x) < 2 else x.lower()"
   ]
  },
  {
   "cell_type": "code",
   "execution_count": 14,
   "metadata": {},
   "outputs": [],
   "source": [
    "for col in ['operation', 'k_symbol']:\n",
    "    data[col] = data[col].apply(cleanOperation)\n",
    "    \n",
    "# or: data = data.applymap(cleanOperation)"
   ]
  },
  {
   "cell_type": "code",
   "execution_count": 15,
   "metadata": {
    "scrolled": true
   },
   "outputs": [
    {
     "data": {
      "text/html": [
       "<div>\n",
       "<style scoped>\n",
       "    .dataframe tbody tr th:only-of-type {\n",
       "        vertical-align: middle;\n",
       "    }\n",
       "\n",
       "    .dataframe tbody tr th {\n",
       "        vertical-align: top;\n",
       "    }\n",
       "\n",
       "    .dataframe thead th {\n",
       "        text-align: right;\n",
       "    }\n",
       "</style>\n",
       "<table border=\"1\" class=\"dataframe\">\n",
       "  <thead>\n",
       "    <tr style=\"text-align: right;\">\n",
       "      <th>status</th>\n",
       "      <th>A</th>\n",
       "      <th>B</th>\n",
       "      <th>C</th>\n",
       "      <th>D</th>\n",
       "    </tr>\n",
       "    <tr>\n",
       "      <th>type</th>\n",
       "      <th></th>\n",
       "      <th></th>\n",
       "      <th></th>\n",
       "      <th></th>\n",
       "    </tr>\n",
       "  </thead>\n",
       "  <tbody>\n",
       "    <tr>\n",
       "      <th>PRIJEM</th>\n",
       "      <td>23561</td>\n",
       "      <td>4099</td>\n",
       "      <td>27637</td>\n",
       "      <td>4009</td>\n",
       "    </tr>\n",
       "    <tr>\n",
       "      <th>VYBER</th>\n",
       "      <td>2214</td>\n",
       "      <td>415</td>\n",
       "      <td>2313</td>\n",
       "      <td>405</td>\n",
       "    </tr>\n",
       "    <tr>\n",
       "      <th>VYDAJ</th>\n",
       "      <td>38824</td>\n",
       "      <td>5251</td>\n",
       "      <td>42338</td>\n",
       "      <td>5015</td>\n",
       "    </tr>\n",
       "  </tbody>\n",
       "</table>\n",
       "</div>"
      ],
      "text/plain": [
       "status      A     B      C     D\n",
       "type                            \n",
       "PRIJEM  23561  4099  27637  4009\n",
       "VYBER    2214   415   2313   405\n",
       "VYDAJ   38824  5251  42338  5015"
      ]
     },
     "execution_count": 15,
     "metadata": {},
     "output_type": "execute_result"
    }
   ],
   "source": [
    "# checking how many different loans of each type and operation\n",
    "pd.crosstab(data['type'], data['status'])"
   ]
  },
  {
   "cell_type": "markdown",
   "metadata": {},
   "source": [
    "### EDA"
   ]
  },
  {
   "cell_type": "code",
   "execution_count": 16,
   "metadata": {},
   "outputs": [
    {
     "data": {
      "image/png": "[encoded data removed]",
      "text/plain": [
       "<Figure size 720x576 with 2 Axes>"
      ]
     },
     "metadata": {
      "needs_background": "light"
     },
     "output_type": "display_data"
    }
   ],
   "source": [
    "corr_matrix=data.corr(method='pearson')  # default\n",
    "fig, ax = plt.subplots(figsize=(10, 8))\n",
    "ax = sns.heatmap(corr_matrix, annot=True)\n",
    "plt.show()"
   ]
  },
  {
   "cell_type": "code",
   "execution_count": 17,
   "metadata": {},
   "outputs": [
    {
     "data": {
      "image/png": "[encoded data removed]",
      "text/plain": [
       "<Figure size 360x360 with 1 Axes>"
      ]
     },
     "metadata": {
      "needs_background": "light"
     },
     "output_type": "display_data"
    },
    {
     "data": {
      "image/png": "[encoded data removed]",
      "text/plain": [
       "<Figure size 360x360 with 1 Axes>"
      ]
     },
     "metadata": {
      "needs_background": "light"
     },
     "output_type": "display_data"
    },
    {
     "data": {
      "image/png": "[encoded data removed]",
      "text/plain": [
       "<Figure size 360x360 with 1 Axes>"
      ]
     },
     "metadata": {
      "needs_background": "light"
     },
     "output_type": "display_data"
    },
    {
     "data": {
      "image/png": "[encoded data removed]",
      "text/plain": [
       "<Figure size 360x360 with 1 Axes>"
      ]
     },
     "metadata": {
      "needs_background": "light"
     },
     "output_type": "display_data"
    }
   ],
   "source": [
    "for col in data.select_dtypes(np.number):\n",
    "    sns.displot(data[col])\n",
    "    plt.show()"
   ]
  },
  {
   "cell_type": "markdown",
   "metadata": {},
   "source": [
    "### Feature Engineering\n",
    "\n",
    "#### Maybe log or boxcox transformation would make sense. Because of the high number of categorical columns and their likely importance, i'd avoid using Normalizer, since you'd loose some information on the categorical data."
   ]
  },
  {
   "cell_type": "code",
   "execution_count": 18,
   "metadata": {},
   "outputs": [],
   "source": [
    "### Activity 3"
   ]
  },
  {
   "cell_type": "markdown",
   "metadata": {},
   "source": [
    "### Train the model"
   ]
  },
  {
   "cell_type": "code",
   "execution_count": 19,
   "metadata": {},
   "outputs": [],
   "source": [
    "y = data['status']\n",
    "X = data.drop('status', axis=1)"
   ]
  },
  {
   "cell_type": "code",
   "execution_count": 20,
   "metadata": {},
   "outputs": [
    {
     "data": {
      "text/html": [
       "<div>\n",
       "<style scoped>\n",
       "    .dataframe tbody tr th:only-of-type {\n",
       "        vertical-align: middle;\n",
       "    }\n",
       "\n",
       "    .dataframe tbody tr th {\n",
       "        vertical-align: top;\n",
       "    }\n",
       "\n",
       "    .dataframe thead th {\n",
       "        text-align: right;\n",
       "    }\n",
       "</style>\n",
       "<table border=\"1\" class=\"dataframe\">\n",
       "  <thead>\n",
       "    <tr style=\"text-align: right;\">\n",
       "      <th></th>\n",
       "      <th>t_amount</th>\n",
       "      <th>balance</th>\n",
       "      <th>l_amount</th>\n",
       "      <th>payments</th>\n",
       "      <th>type_PRIJEM</th>\n",
       "      <th>type_VYBER</th>\n",
       "      <th>type_VYDAJ</th>\n",
       "      <th>operation_prevod na ucet</th>\n",
       "      <th>operation_prevod z uctu</th>\n",
       "      <th>operation_unknown</th>\n",
       "      <th>...</th>\n",
       "      <th>k_symbol_sipo</th>\n",
       "      <th>k_symbol_sluzby</th>\n",
       "      <th>k_symbol_unknown</th>\n",
       "      <th>k_symbol_urok</th>\n",
       "      <th>k_symbol_uver</th>\n",
       "      <th>duration_12</th>\n",
       "      <th>duration_24</th>\n",
       "      <th>duration_36</th>\n",
       "      <th>duration_48</th>\n",
       "      <th>duration_60</th>\n",
       "    </tr>\n",
       "  </thead>\n",
       "  <tbody>\n",
       "    <tr>\n",
       "      <th>0</th>\n",
       "      <td>44749.0</td>\n",
       "      <td>45549.0</td>\n",
       "      <td>79608</td>\n",
       "      <td>3317.0</td>\n",
       "      <td>1</td>\n",
       "      <td>0</td>\n",
       "      <td>0</td>\n",
       "      <td>0</td>\n",
       "      <td>1</td>\n",
       "      <td>0</td>\n",
       "      <td>...</td>\n",
       "      <td>0</td>\n",
       "      <td>0</td>\n",
       "      <td>1</td>\n",
       "      <td>0</td>\n",
       "      <td>0</td>\n",
       "      <td>0</td>\n",
       "      <td>1</td>\n",
       "      <td>0</td>\n",
       "      <td>0</td>\n",
       "      <td>0</td>\n",
       "    </tr>\n",
       "    <tr>\n",
       "      <th>1</th>\n",
       "      <td>1000.0</td>\n",
       "      <td>1000.0</td>\n",
       "      <td>52788</td>\n",
       "      <td>4399.0</td>\n",
       "      <td>1</td>\n",
       "      <td>0</td>\n",
       "      <td>0</td>\n",
       "      <td>0</td>\n",
       "      <td>0</td>\n",
       "      <td>0</td>\n",
       "      <td>...</td>\n",
       "      <td>0</td>\n",
       "      <td>0</td>\n",
       "      <td>1</td>\n",
       "      <td>0</td>\n",
       "      <td>0</td>\n",
       "      <td>1</td>\n",
       "      <td>0</td>\n",
       "      <td>0</td>\n",
       "      <td>0</td>\n",
       "      <td>0</td>\n",
       "    </tr>\n",
       "    <tr>\n",
       "      <th>2</th>\n",
       "      <td>1100.0</td>\n",
       "      <td>1100.0</td>\n",
       "      <td>21924</td>\n",
       "      <td>609.0</td>\n",
       "      <td>1</td>\n",
       "      <td>0</td>\n",
       "      <td>0</td>\n",
       "      <td>0</td>\n",
       "      <td>0</td>\n",
       "      <td>0</td>\n",
       "      <td>...</td>\n",
       "      <td>0</td>\n",
       "      <td>0</td>\n",
       "      <td>1</td>\n",
       "      <td>0</td>\n",
       "      <td>0</td>\n",
       "      <td>0</td>\n",
       "      <td>0</td>\n",
       "      <td>1</td>\n",
       "      <td>0</td>\n",
       "      <td>0</td>\n",
       "    </tr>\n",
       "    <tr>\n",
       "      <th>3</th>\n",
       "      <td>700.0</td>\n",
       "      <td>700.0</td>\n",
       "      <td>23052</td>\n",
       "      <td>1921.0</td>\n",
       "      <td>1</td>\n",
       "      <td>0</td>\n",
       "      <td>0</td>\n",
       "      <td>0</td>\n",
       "      <td>0</td>\n",
       "      <td>0</td>\n",
       "      <td>...</td>\n",
       "      <td>0</td>\n",
       "      <td>0</td>\n",
       "      <td>1</td>\n",
       "      <td>0</td>\n",
       "      <td>0</td>\n",
       "      <td>1</td>\n",
       "      <td>0</td>\n",
       "      <td>0</td>\n",
       "      <td>0</td>\n",
       "      <td>0</td>\n",
       "    </tr>\n",
       "    <tr>\n",
       "      <th>4</th>\n",
       "      <td>900.0</td>\n",
       "      <td>900.0</td>\n",
       "      <td>41904</td>\n",
       "      <td>3492.0</td>\n",
       "      <td>1</td>\n",
       "      <td>0</td>\n",
       "      <td>0</td>\n",
       "      <td>0</td>\n",
       "      <td>0</td>\n",
       "      <td>0</td>\n",
       "      <td>...</td>\n",
       "      <td>0</td>\n",
       "      <td>0</td>\n",
       "      <td>1</td>\n",
       "      <td>0</td>\n",
       "      <td>0</td>\n",
       "      <td>1</td>\n",
       "      <td>0</td>\n",
       "      <td>0</td>\n",
       "      <td>0</td>\n",
       "      <td>0</td>\n",
       "    </tr>\n",
       "    <tr>\n",
       "      <th>...</th>\n",
       "      <td>...</td>\n",
       "      <td>...</td>\n",
       "      <td>...</td>\n",
       "      <td>...</td>\n",
       "      <td>...</td>\n",
       "      <td>...</td>\n",
       "      <td>...</td>\n",
       "      <td>...</td>\n",
       "      <td>...</td>\n",
       "      <td>...</td>\n",
       "      <td>...</td>\n",
       "      <td>...</td>\n",
       "      <td>...</td>\n",
       "      <td>...</td>\n",
       "      <td>...</td>\n",
       "      <td>...</td>\n",
       "      <td>...</td>\n",
       "      <td>...</td>\n",
       "      <td>...</td>\n",
       "      <td>...</td>\n",
       "      <td>...</td>\n",
       "    </tr>\n",
       "    <tr>\n",
       "      <th>156076</th>\n",
       "      <td>67.9</td>\n",
       "      <td>17036.9</td>\n",
       "      <td>268320</td>\n",
       "      <td>4472.0</td>\n",
       "      <td>1</td>\n",
       "      <td>0</td>\n",
       "      <td>0</td>\n",
       "      <td>0</td>\n",
       "      <td>0</td>\n",
       "      <td>1</td>\n",
       "      <td>...</td>\n",
       "      <td>0</td>\n",
       "      <td>0</td>\n",
       "      <td>0</td>\n",
       "      <td>1</td>\n",
       "      <td>0</td>\n",
       "      <td>0</td>\n",
       "      <td>0</td>\n",
       "      <td>0</td>\n",
       "      <td>0</td>\n",
       "      <td>1</td>\n",
       "    </tr>\n",
       "    <tr>\n",
       "      <th>156077</th>\n",
       "      <td>187.2</td>\n",
       "      <td>42249.6</td>\n",
       "      <td>437460</td>\n",
       "      <td>7291.0</td>\n",
       "      <td>1</td>\n",
       "      <td>0</td>\n",
       "      <td>0</td>\n",
       "      <td>0</td>\n",
       "      <td>0</td>\n",
       "      <td>1</td>\n",
       "      <td>...</td>\n",
       "      <td>0</td>\n",
       "      <td>0</td>\n",
       "      <td>0</td>\n",
       "      <td>1</td>\n",
       "      <td>0</td>\n",
       "      <td>0</td>\n",
       "      <td>0</td>\n",
       "      <td>0</td>\n",
       "      <td>0</td>\n",
       "      <td>1</td>\n",
       "    </tr>\n",
       "    <tr>\n",
       "      <th>156078</th>\n",
       "      <td>132.0</td>\n",
       "      <td>31046.4</td>\n",
       "      <td>272520</td>\n",
       "      <td>4542.0</td>\n",
       "      <td>1</td>\n",
       "      <td>0</td>\n",
       "      <td>0</td>\n",
       "      <td>0</td>\n",
       "      <td>0</td>\n",
       "      <td>1</td>\n",
       "      <td>...</td>\n",
       "      <td>0</td>\n",
       "      <td>0</td>\n",
       "      <td>0</td>\n",
       "      <td>1</td>\n",
       "      <td>0</td>\n",
       "      <td>0</td>\n",
       "      <td>0</td>\n",
       "      <td>0</td>\n",
       "      <td>0</td>\n",
       "      <td>1</td>\n",
       "    </tr>\n",
       "    <tr>\n",
       "      <th>156079</th>\n",
       "      <td>271.6</td>\n",
       "      <td>58694.2</td>\n",
       "      <td>380160</td>\n",
       "      <td>6336.0</td>\n",
       "      <td>1</td>\n",
       "      <td>0</td>\n",
       "      <td>0</td>\n",
       "      <td>0</td>\n",
       "      <td>0</td>\n",
       "      <td>1</td>\n",
       "      <td>...</td>\n",
       "      <td>0</td>\n",
       "      <td>0</td>\n",
       "      <td>0</td>\n",
       "      <td>1</td>\n",
       "      <td>0</td>\n",
       "      <td>0</td>\n",
       "      <td>0</td>\n",
       "      <td>0</td>\n",
       "      <td>0</td>\n",
       "      <td>1</td>\n",
       "    </tr>\n",
       "    <tr>\n",
       "      <th>156080</th>\n",
       "      <td>190.7</td>\n",
       "      <td>45255.1</td>\n",
       "      <td>504000</td>\n",
       "      <td>8400.0</td>\n",
       "      <td>1</td>\n",
       "      <td>0</td>\n",
       "      <td>0</td>\n",
       "      <td>0</td>\n",
       "      <td>0</td>\n",
       "      <td>1</td>\n",
       "      <td>...</td>\n",
       "      <td>0</td>\n",
       "      <td>0</td>\n",
       "      <td>0</td>\n",
       "      <td>1</td>\n",
       "      <td>0</td>\n",
       "      <td>0</td>\n",
       "      <td>0</td>\n",
       "      <td>0</td>\n",
       "      <td>0</td>\n",
       "      <td>1</td>\n",
       "    </tr>\n",
       "  </tbody>\n",
       "</table>\n",
       "<p>156081 rows × 25 columns</p>\n",
       "</div>"
      ],
      "text/plain": [
       "        t_amount  balance  l_amount  payments  type_PRIJEM  type_VYBER  \\\n",
       "0        44749.0  45549.0     79608    3317.0            1           0   \n",
       "1         1000.0   1000.0     52788    4399.0            1           0   \n",
       "2         1100.0   1100.0     21924     609.0            1           0   \n",
       "3          700.0    700.0     23052    1921.0            1           0   \n",
       "4          900.0    900.0     41904    3492.0            1           0   \n",
       "...          ...      ...       ...       ...          ...         ...   \n",
       "156076      67.9  17036.9    268320    4472.0            1           0   \n",
       "156077     187.2  42249.6    437460    7291.0            1           0   \n",
       "156078     132.0  31046.4    272520    4542.0            1           0   \n",
       "156079     271.6  58694.2    380160    6336.0            1           0   \n",
       "156080     190.7  45255.1    504000    8400.0            1           0   \n",
       "\n",
       "        type_VYDAJ  operation_prevod na ucet  operation_prevod z uctu  \\\n",
       "0                0                         0                        1   \n",
       "1                0                         0                        0   \n",
       "2                0                         0                        0   \n",
       "3                0                         0                        0   \n",
       "4                0                         0                        0   \n",
       "...            ...                       ...                      ...   \n",
       "156076           0                         0                        0   \n",
       "156077           0                         0                        0   \n",
       "156078           0                         0                        0   \n",
       "156079           0                         0                        0   \n",
       "156080           0                         0                        0   \n",
       "\n",
       "        operation_unknown  ...  k_symbol_sipo  k_symbol_sluzby  \\\n",
       "0                       0  ...              0                0   \n",
       "1                       0  ...              0                0   \n",
       "2                       0  ...              0                0   \n",
       "3                       0  ...              0                0   \n",
       "4                       0  ...              0                0   \n",
       "...                   ...  ...            ...              ...   \n",
       "156076                  1  ...              0                0   \n",
       "156077                  1  ...              0                0   \n",
       "156078                  1  ...              0                0   \n",
       "156079                  1  ...              0                0   \n",
       "156080                  1  ...              0                0   \n",
       "\n",
       "        k_symbol_unknown  k_symbol_urok  k_symbol_uver  duration_12  \\\n",
       "0                      1              0              0            0   \n",
       "1                      1              0              0            1   \n",
       "2                      1              0              0            0   \n",
       "3                      1              0              0            1   \n",
       "4                      1              0              0            1   \n",
       "...                  ...            ...            ...          ...   \n",
       "156076                 0              1              0            0   \n",
       "156077                 0              1              0            0   \n",
       "156078                 0              1              0            0   \n",
       "156079                 0              1              0            0   \n",
       "156080                 0              1              0            0   \n",
       "\n",
       "        duration_24  duration_36  duration_48  duration_60  \n",
       "0                 1            0            0            0  \n",
       "1                 0            0            0            0  \n",
       "2                 0            1            0            0  \n",
       "3                 0            0            0            0  \n",
       "4                 0            0            0            0  \n",
       "...             ...          ...          ...          ...  \n",
       "156076            0            0            0            1  \n",
       "156077            0            0            0            1  \n",
       "156078            0            0            0            1  \n",
       "156079            0            0            0            1  \n",
       "156080            0            0            0            1  \n",
       "\n",
       "[156081 rows x 25 columns]"
      ]
     },
     "execution_count": 20,
     "metadata": {},
     "output_type": "execute_result"
    }
   ],
   "source": [
    "# watch out! rookie mistake: DONNUT dummify the target variable\n",
    "X = pd.get_dummies(X)\n",
    "X"
   ]
  },
  {
   "cell_type": "code",
   "execution_count": 21,
   "metadata": {},
   "outputs": [],
   "source": [
    "X_train, X_test, y_train, y_test = train_test_split(X, y, test_size=0.2, random_state=42)"
   ]
  },
  {
   "cell_type": "code",
   "execution_count": 22,
   "metadata": {},
   "outputs": [
    {
     "data": {
      "text/plain": [
       "LogisticRegression(max_iter=500, multi_class='multinomial', random_state=42)"
      ]
     },
     "execution_count": 22,
     "metadata": {},
     "output_type": "execute_result"
    }
   ],
   "source": [
    "classification = LogisticRegression(random_state=42, multi_class='multinomial', max_iter=500) # max_iter\n",
    "classification.fit(X_train, y_train)\n",
    "# here the model does not converge, to solve it you can scale the data or increase the max_iter parameter\n",
    "# the first option will save on processing power."
   ]
  },
  {
   "cell_type": "markdown",
   "metadata": {},
   "source": [
    "### Evaluate the model"
   ]
  },
  {
   "cell_type": "code",
   "execution_count": 23,
   "metadata": {},
   "outputs": [
    {
     "data": {
      "text/plain": [
       "0.7060255629945222"
      ]
     },
     "execution_count": 23,
     "metadata": {},
     "output_type": "execute_result"
    }
   ],
   "source": [
    "classification.score(X_test, y_test)"
   ]
  },
  {
   "cell_type": "code",
   "execution_count": 24,
   "metadata": {},
   "outputs": [
    {
     "data": {
      "text/plain": [
       "C    17710\n",
       "A    12933\n",
       "B      386\n",
       "D      188\n",
       "dtype: int64"
      ]
     },
     "execution_count": 24,
     "metadata": {},
     "output_type": "execute_result"
    }
   ],
   "source": [
    "predictions = classification.predict(X_test)\n",
    "\n",
    "pd.Series(predictions).value_counts()"
   ]
  },
  {
   "cell_type": "code",
   "execution_count": 25,
   "metadata": {},
   "outputs": [
    {
     "data": {
      "text/plain": [
       "C    14531\n",
       "A    12876\n",
       "B     1943\n",
       "D     1867\n",
       "Name: status, dtype: int64"
      ]
     },
     "execution_count": 25,
     "metadata": {},
     "output_type": "execute_result"
    }
   ],
   "source": [
    "y_test.value_counts()"
   ]
  },
  {
   "cell_type": "markdown",
   "metadata": {},
   "source": [
    "OBS: the model amplifies the imbalance in the data"
   ]
  },
  {
   "cell_type": "code",
   "execution_count": 27,
   "metadata": {},
   "outputs": [
    {
     "data": {
      "text/plain": [
       "array([[ 9413,    52,  3410,     1],\n",
       "       [ 1106,   225,   595,    17],\n",
       "       [ 2182,    41, 12270,    38],\n",
       "       [  232,    68,  1435,   132]])"
      ]
     },
     "execution_count": 27,
     "metadata": {},
     "output_type": "execute_result"
    }
   ],
   "source": [
    "confusion_matrix(y_test, predictions)"
   ]
  },
  {
   "cell_type": "code",
   "execution_count": 36,
   "metadata": {},
   "outputs": [
    {
     "data": {
      "text/plain": [
       "<AxesSubplot:>"
      ]
     },
     "execution_count": 36,
     "metadata": {},
     "output_type": "execute_result"
    },
    {
     "data": {
      "image/png": "[encoded data removed]",
      "text/plain": [
       "<Figure size 432x288 with 2 Axes>"
      ]
     },
     "metadata": {
      "needs_background": "light"
     },
     "output_type": "display_data"
    }
   ],
   "source": [
    "cf_matrix = confusion_matrix(y_test, predictions)\n",
    "group_names = ['True A', 'False A', 'False A', 'False A',\n",
    "               'False B', 'True B', 'False B', 'False B',\n",
    "               'False c', 'False C', 'True C', 'False C',\n",
    "               'False D', 'False D', 'False D', 'True D']\n",
    "\n",
    "group_counts = [\"{0:0.0f}\".format(value) for value in cf_matrix.flatten()]\n",
    "group_percentages = [\"{0:.2%}\".format(value) for value in cf_matrix.flatten()/np.sum(cf_matrix)]\n",
    "labels = [f\"{v1}\\n{v2}\\n{v3}\" for v1, v2, v3 in zip(group_names,group_counts,group_percentages)]\n",
    "labels = np.asarray(labels).reshape(4,4)\n",
    "sns.heatmap(cf_matrix, annot=labels, fmt='', cmap='Blues')"
   ]
  },
  {
   "cell_type": "code",
   "execution_count": 38,
   "metadata": {},
   "outputs": [
    {
     "data": {
      "image/png": "[encoded data removed]",
      "text/plain": [
       "<Figure size 432x288 with 2 Axes>"
      ]
     },
     "metadata": {
      "needs_background": "light"
     },
     "output_type": "display_data"
    }
   ],
   "source": [
    "from sklearn.metrics import plot_confusion_matrix\n",
    "\n",
    "plot_confusion_matrix(classification, X_test, y_test, cmap='Blues')\n",
    "plt.show()"
   ]
  },
  {
   "cell_type": "code",
   "execution_count": null,
   "metadata": {},
   "outputs": [],
   "source": [
    "# still hard to see how good the model is, considering the data imbalance"
   ]
  },
  {
   "cell_type": "markdown",
   "metadata": {},
   "source": [
    "### Conclusions"
   ]
  },
  {
   "cell_type": "markdown",
   "metadata": {},
   "source": [
    "* How good are my predictions?\n",
    "* What am I actually predicting here? What do I want to achieve with these predictions?\n",
    "* Have I chosen my data wisely? (garbage in - garbage out)\n",
    "* Thoughts on how to improve the model?"
   ]
  },
  {
   "cell_type": "markdown",
   "metadata": {},
   "source": [
    "### Homework: Prove to me that this model suck from it's conception."
   ]
  },
  {
   "cell_type": "code",
   "execution_count": null,
   "metadata": {},
   "outputs": [],
   "source": []
  }
 ],
 "metadata": {
  "kernelspec": {
   "display_name": "Python 3",
   "language": "python",
   "name": "python3"
  },
  "language_info": {
   "codemirror_mode": {
    "name": "ipython",
    "version": 3
   },
   "file_extension": ".py",
   "mimetype": "text/x-python",
   "name": "python",
   "nbconvert_exporter": "python",
   "pygments_lexer": "ipython3",
   "version": "3.8.2"
  }
 },
 "nbformat": 4,
 "nbformat_minor": 4
}
